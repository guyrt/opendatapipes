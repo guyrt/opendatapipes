{
  "cells": [
    {
      "cell_type": "code",
      "execution_count": null,
      "metadata": {
        "jupyter": {
          "outputs_hidden": true,
          "source_hidden": false
        },
        "nteract": {
          "transient": {
            "deleting": false
          }
        }
      },
      "outputs": [],
      "source": [
        "!pip install -U azureml-fsspec mltable"
      ]
    },
    {
      "cell_type": "code",
      "execution_count": 13,
      "metadata": {
        "gather": {
          "logged": 1668986330953
        },
        "jupyter": {
          "outputs_hidden": false,
          "source_hidden": false
        },
        "nteract": {
          "transient": {
            "deleting": false
          }
        }
      },
      "outputs": [],
      "source": [
        "from azureml.fsspec import AzureMachineLearningFileSystem\n",
        "import numpy as np\n",
        "import pandas as pd"
      ]
    },
    {
      "cell_type": "code",
      "execution_count": 2,
      "metadata": {
        "gather": {
          "logged": 1668986088831
        }
      },
      "outputs": [
        {
          "data": {
            "text/plain": [
              "'azureml://subscriptions/f48a2553-c966-4d06-8faa-c5096da10254/resourcegroups/rg-fecdata/workspaces/fecaml/datastores/amitoosweet/paths/clarityUploads'"
            ]
          },
          "execution_count": 2,
          "metadata": {},
          "output_type": "execute_result"
        }
      ],
      "source": [
        "from azureml.core import Workspace, Dataset, Datastore\n",
        "\n",
        "subscription = 'f48a2553-c966-4d06-8faa-c5096da10254'\n",
        "resource_group = 'rg-fecdata'\n",
        "workspace = 'fecaml'\n",
        "datastore_name = 'amitoosweet'\n",
        "path_on_datastore = 'clarityUploads'\n",
        "\n",
        "# long-form Datastore uri format:\n",
        "uri = f'azureml://subscriptions/{subscription}/resourcegroups/{resource_group}/workspaces/{workspace}/datastores/{datastore_name}/paths/{path_on_datastore}'\n",
        "\n",
        "uri"
      ]
    },
    {
      "cell_type": "code",
      "execution_count": 3,
      "metadata": {
        "gather": {
          "logged": 1668986094016
        },
        "jupyter": {
          "outputs_hidden": false,
          "source_hidden": false
        },
        "nteract": {
          "transient": {
            "deleting": false
          }
        }
      },
      "outputs": [],
      "source": [
        "# instantiate file system using datastore URI\n",
        "fs = AzureMachineLearningFileSystem(uri)\n",
        "\n",
        "pandas_frames = []\n",
        "for path in fs.ls():\n",
        "    print(f'Reading from {path}')\n",
        "    with fs.open(path) as f:\n",
        "        pandas_frames.append(pd.read_csv(f, header=0))\n",
        "\n",
        "print(f'concating {len(pandas_frames)} frames')\n",
        "full_df = pd.concat(pandas_frames)\n"
      ]
    },
    {
      "cell_type": "code",
      "execution_count": 4,
      "metadata": {
        "gather": {
          "logged": 1668986094294
        },
        "jupyter": {
          "outputs_hidden": false,
          "source_hidden": false
        },
        "nteract": {
          "transient": {
            "deleting": false
          }
        }
      },
      "outputs": [],
      "source": [
        "# pull out EGV events only\n",
        "egv_events = full_df[full_df['Event Type'] == \"EGV\"]\n",
        "egv_events = egv_events[['Timestamp (YYYY-MM-DDThh:mm:ss)', 'Source Device ID',\n",
        "       'Glucose Value (mg/dL)', 'Transmitter Time (Long Integer)', 'Transmitter ID']]\n",
        "\n",
        "egv_events = egv_events.drop_duplicates(keep='last', subset='Timestamp (YYYY-MM-DDThh:mm:ss)')\n",
        "egv_events.columns = ['timestamp_str', 'source_device', 'glucose', 'transmittertime', 'transmitter_id']"
      ]
    },
    {
      "cell_type": "code",
      "execution_count": 10,
      "metadata": {
        "gather": {
          "logged": 1668986267335
        },
        "jupyter": {
          "outputs_hidden": false,
          "source_hidden": false
        },
        "nteract": {
          "transient": {
            "deleting": false
          }
        }
      },
      "outputs": [],
      "source": [
        "# interpolate gaps (linear) to get clean 5 mins \n",
        "egv_events['timestamp'] = pd.to_datetime(egv_events['timestamp_str'], format='%Y-%m-%dT%H:%M:%S')\n",
        "egv_events['timestamp_diff'] = egv_events.timestamp.diff()"
      ]
    },
    {
      "cell_type": "code",
      "execution_count": 51,
      "metadata": {
        "gather": {
          "logged": 1668989735730
        },
        "jupyter": {
          "outputs_hidden": false,
          "source_hidden": false
        },
        "nteract": {
          "transient": {
            "deleting": false
          }
        }
      },
      "outputs": [
        {
          "data": {
            "text/html": [
              "<div>\n",
              "<style scoped>\n",
              "    .dataframe tbody tr th:only-of-type {\n",
              "        vertical-align: middle;\n",
              "    }\n",
              "\n",
              "    .dataframe tbody tr th {\n",
              "        vertical-align: top;\n",
              "    }\n",
              "\n",
              "    .dataframe thead th {\n",
              "        text-align: right;\n",
              "    }\n",
              "</style>\n",
              "<table border=\"1\" class=\"dataframe\">\n",
              "  <thead>\n",
              "    <tr style=\"text-align: right;\">\n",
              "      <th></th>\n",
              "      <th>timestamp_str</th>\n",
              "      <th>source_device</th>\n",
              "      <th>glucose</th>\n",
              "      <th>transmittertime</th>\n",
              "      <th>transmitter_id</th>\n",
              "      <th>timestamp</th>\n",
              "      <th>timestamp_diff</th>\n",
              "    </tr>\n",
              "  </thead>\n",
              "  <tbody>\n",
              "    <tr>\n",
              "      <th>1214</th>\n",
              "      <td>2022-11-12T02:14:33</td>\n",
              "      <td>Android G6</td>\n",
              "      <td>176</td>\n",
              "      <td>367574.0</td>\n",
              "      <td>8FELKW</td>\n",
              "      <td>2022-11-12 02:14:33</td>\n",
              "      <td>0 days 00:25:00</td>\n",
              "    </tr>\n",
              "    <tr>\n",
              "      <th>2816</th>\n",
              "      <td>2022-11-17T17:44:53</td>\n",
              "      <td>Android G6</td>\n",
              "      <td>204</td>\n",
              "      <td>855374.0</td>\n",
              "      <td>8FELKW</td>\n",
              "      <td>2022-11-17 17:44:53</td>\n",
              "      <td>0 days 02:10:01</td>\n",
              "    </tr>\n",
              "  </tbody>\n",
              "</table>\n",
              "</div>"
            ],
            "text/plain": [
              "            timestamp_str source_device glucose  transmittertime  \\\n",
              "1214  2022-11-12T02:14:33    Android G6     176         367574.0   \n",
              "2816  2022-11-17T17:44:53    Android G6     204         855374.0   \n",
              "\n",
              "     transmitter_id           timestamp  timestamp_diff  \n",
              "1214         8FELKW 2022-11-12 02:14:33 0 days 00:25:00  \n",
              "2816         8FELKW 2022-11-17 17:44:53 0 days 02:10:01  "
            ]
          },
          "execution_count": 51,
          "metadata": {},
          "output_type": "execute_result"
        }
      ],
      "source": [
        "gaps = egv_events[egv_events.timestamp_diff >= np.timedelta64(6, 'm')].index"
      ]
    },
    {
      "cell_type": "code",
      "execution_count": 69,
      "metadata": {
        "gather": {
          "logged": 1668992188800
        },
        "jupyter": {
          "outputs_hidden": false,
          "source_hidden": false
        },
        "nteract": {
          "transient": {
            "deleting": false
          }
        }
      },
      "outputs": [],
      "source": [
        "new_time_slots = []\n",
        "\n",
        "for low, high in zip(gaps-1, gaps):\n",
        "    start_event = egv_events.loc[low]\n",
        "    end_event = egv_events.loc[high]\n",
        "    start = start_event.timestamp\n",
        "    end = end_event.timestamp\n",
        "    start_time = start\n",
        "    previous_start_time = start\n",
        "    transmitter_id = start_event['transmitter_id'] if start_event['transmitter_id'] == end_event['transmitter_id'] else \"Switch\"\n",
        "    while end - start_time >= np.timedelta64(5, 'm'):\n",
        "        start_time += np.timedelta64(5, 'm')\n",
        "        new_time_slots.append({\n",
        "            'timestamp_str': str(start_time), \n",
        "            'source_device': 'Interpolate',\n",
        "            'glucose': np.nan,\n",
        "            'trasmittertime': -1,\n",
        "            'transmitter_id': transmitter_id,\n",
        "            'timestamp': start_time,\n",
        "            'timestamp_diff': start_time - previous_start_time\n",
        "        })\n",
        "        previous_start_time = start_time\n"
      ]
    },
    {
      "cell_type": "code",
      "execution_count": 73,
      "metadata": {
        "gather": {
          "logged": 1668992291222
        },
        "jupyter": {
          "outputs_hidden": false,
          "source_hidden": false
        },
        "nteract": {
          "transient": {
            "deleting": false
          }
        }
      },
      "outputs": [],
      "source": [
        "# create basic rows here\n",
        "new_data = pd.DataFrame(new_time_slots)\n",
        "egv_events_with_interpolate = pd.concat([egv_events, new_data])\n",
        "egv_events_with_interpolate.sort_values(by='timestamp', inplace=True)\n",
        "egv_events_with_interpolate.set_index('timestamp').glucose.interpolate(method='cubic', inplace=True)\n",
        "egv_events_with_interpolate.reset_index()\n",
        "\n",
        "# assert all diffs < 6 mins\n",
        "assert egv_events_with_interpolate.timestamp.diff().max() < np.timedelta64(6, 'm')"
      ]
    }
  ],
  "metadata": {
    "kernel_info": {
      "name": "python38-azureml"
    },
    "kernelspec": {
      "display_name": "Python 3.8 - AzureML",
      "language": "python",
      "name": "python38-azureml"
    },
    "language_info": {
      "codemirror_mode": {
        "name": "ipython",
        "version": 3
      },
      "file_extension": ".py",
      "mimetype": "text/x-python",
      "name": "python",
      "nbconvert_exporter": "python",
      "pygments_lexer": "ipython3",
      "version": "3.8.5"
    },
    "microsoft": {
      "host": {
        "AzureML": {
          "notebookHasBeenCompleted": true
        }
      }
    },
    "nteract": {
      "version": "nteract-front-end@1.0.0"
    }
  },
  "nbformat": 4,
  "nbformat_minor": 2
}
