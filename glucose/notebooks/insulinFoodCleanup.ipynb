{
 "cells": [
  {
   "cell_type": "code",
   "execution_count": 1,
   "id": "42850675",
   "metadata": {},
   "outputs": [],
   "source": [
    "from datetime import datetime, timedelta\n",
    "import pandas as pd\n",
    "import numpy as np\n",
    "import pytz"
   ]
  },
  {
   "cell_type": "code",
   "execution_count": 2,
   "id": "ac9133f6",
   "metadata": {},
   "outputs": [],
   "source": [
    "df = pd.read_excel(\"/mnt/c/Users/riguy/Downloads/AmITooSweet.xlsx\")"
   ]
  },
  {
   "cell_type": "code",
   "execution_count": 3,
   "id": "3af201c1",
   "metadata": {},
   "outputs": [],
   "source": [
    "df = df[['Date', 'Time', 'Type', 'Units', 'Notes']]"
   ]
  },
  {
   "cell_type": "code",
   "execution_count": 4,
   "id": "3ba70f2f",
   "metadata": {},
   "outputs": [],
   "source": [
    "def fix_timezones(s):\n",
    "    if pd.isna(s):\n",
    "        return s\n",
    "    s = s.lower()\n",
    "    if 'time zone' in s:\n",
    "        return s.replace('time zone', '').strip().upper()\n",
    "    return np.nan\n",
    "\n",
    "df.Date = df.Date.interpolate(method='pad')\n",
    "\n",
    "df[\"timezone\"] = df.Notes.apply(fix_timezones)\n",
    "df.at[0, 'timezone'] = 'PST' # fix first value\n",
    "\n",
    "df['had_timezone'] = pd.isna(df.timezone) == False\n",
    "\n",
    "df.timezone = df.timezone.interpolate(method='pad')"
   ]
  },
  {
   "cell_type": "code",
   "execution_count": 5,
   "id": "2a0d129c",
   "metadata": {},
   "outputs": [
    {
     "data": {
      "text/html": [
       "<div>\n",
       "<style scoped>\n",
       "    .dataframe tbody tr th:only-of-type {\n",
       "        vertical-align: middle;\n",
       "    }\n",
       "\n",
       "    .dataframe tbody tr th {\n",
       "        vertical-align: top;\n",
       "    }\n",
       "\n",
       "    .dataframe thead th {\n",
       "        text-align: right;\n",
       "    }\n",
       "</style>\n",
       "<table border=\"1\" class=\"dataframe\">\n",
       "  <thead>\n",
       "    <tr style=\"text-align: right;\">\n",
       "      <th></th>\n",
       "      <th>Date</th>\n",
       "      <th>Time</th>\n",
       "      <th>Type</th>\n",
       "      <th>Units</th>\n",
       "      <th>Notes</th>\n",
       "      <th>timezone</th>\n",
       "      <th>had_timezone</th>\n",
       "    </tr>\n",
       "  </thead>\n",
       "  <tbody>\n",
       "    <tr>\n",
       "      <th>0</th>\n",
       "      <td>2022-11-07</td>\n",
       "      <td>19:57:00</td>\n",
       "      <td>Lantis</td>\n",
       "      <td>10.0</td>\n",
       "      <td>New pen</td>\n",
       "      <td>PST</td>\n",
       "      <td>True</td>\n",
       "    </tr>\n",
       "    <tr>\n",
       "      <th>1</th>\n",
       "      <td>2022-11-08</td>\n",
       "      <td>19:52:00</td>\n",
       "      <td>Lantis</td>\n",
       "      <td>10.0</td>\n",
       "      <td>NaN</td>\n",
       "      <td>PST</td>\n",
       "      <td>False</td>\n",
       "    </tr>\n",
       "    <tr>\n",
       "      <th>2</th>\n",
       "      <td>2022-11-09</td>\n",
       "      <td>19:26:00</td>\n",
       "      <td>Lantis</td>\n",
       "      <td>10.0</td>\n",
       "      <td>Hurt. 4mm needle. Pulled out early?</td>\n",
       "      <td>PST</td>\n",
       "      <td>False</td>\n",
       "    </tr>\n",
       "    <tr>\n",
       "      <th>3</th>\n",
       "      <td>2022-11-10</td>\n",
       "      <td>19:57:00</td>\n",
       "      <td>Lantis</td>\n",
       "      <td>10.0</td>\n",
       "      <td>NaN</td>\n",
       "      <td>PST</td>\n",
       "      <td>False</td>\n",
       "    </tr>\n",
       "    <tr>\n",
       "      <th>4</th>\n",
       "      <td>2022-11-11</td>\n",
       "      <td>19:12:00</td>\n",
       "      <td>Lantis</td>\n",
       "      <td>11.0</td>\n",
       "      <td>5mm needle</td>\n",
       "      <td>PST</td>\n",
       "      <td>False</td>\n",
       "    </tr>\n",
       "  </tbody>\n",
       "</table>\n",
       "</div>"
      ],
      "text/plain": [
       "        Date      Time    Type  Units                                 Notes  \\\n",
       "0 2022-11-07  19:57:00  Lantis   10.0                               New pen   \n",
       "1 2022-11-08  19:52:00  Lantis   10.0                                   NaN   \n",
       "2 2022-11-09  19:26:00  Lantis   10.0  Hurt. 4mm needle. Pulled out early?    \n",
       "3 2022-11-10  19:57:00  Lantis   10.0                                   NaN   \n",
       "4 2022-11-11  19:12:00  Lantis   11.0                           5mm needle    \n",
       "\n",
       "  timezone  had_timezone  \n",
       "0      PST          True  \n",
       "1      PST         False  \n",
       "2      PST         False  \n",
       "3      PST         False  \n",
       "4      PST         False  "
      ]
     },
     "execution_count": 5,
     "metadata": {},
     "output_type": "execute_result"
    }
   ],
   "source": [
    "df.head()"
   ]
  },
  {
   "cell_type": "code",
   "execution_count": 7,
   "id": "67fa8cdf",
   "metadata": {},
   "outputs": [],
   "source": [
    "tz_correct = {\n",
    "    'PST': 'America/Los_Angeles'\n",
    "}\n",
    "\n",
    "def build_timestamp(row):\n",
    "    s = f\"{row['Date'].strftime('%Y-%m-%d')}T{row['Time'].isoformat()}\"\n",
    "    tz = pytz.timezone(tz_correct.get(row['timezone'], row['timezone']))\n",
    "    d = datetime.strptime(s, '%Y-%m-%dT%H:%M:00')\n",
    "    return tz.localize(d)\n",
    "    \n",
    "df['timestamp'] = df.apply(build_timestamp, axis=1)"
   ]
  },
  {
   "cell_type": "code",
   "execution_count": 8,
   "id": "4502c1fc",
   "metadata": {},
   "outputs": [
    {
     "data": {
      "text/html": [
       "<div>\n",
       "<style scoped>\n",
       "    .dataframe tbody tr th:only-of-type {\n",
       "        vertical-align: middle;\n",
       "    }\n",
       "\n",
       "    .dataframe tbody tr th {\n",
       "        vertical-align: top;\n",
       "    }\n",
       "\n",
       "    .dataframe thead th {\n",
       "        text-align: right;\n",
       "    }\n",
       "</style>\n",
       "<table border=\"1\" class=\"dataframe\">\n",
       "  <thead>\n",
       "    <tr style=\"text-align: right;\">\n",
       "      <th></th>\n",
       "      <th>timezone</th>\n",
       "      <th>timestamp</th>\n",
       "    </tr>\n",
       "  </thead>\n",
       "  <tbody>\n",
       "    <tr>\n",
       "      <th>0</th>\n",
       "      <td>PST</td>\n",
       "      <td>2022-11-07 19:57:00-08:00</td>\n",
       "    </tr>\n",
       "    <tr>\n",
       "      <th>20</th>\n",
       "      <td>EST</td>\n",
       "      <td>2022-11-18 20:48:00-05:00</td>\n",
       "    </tr>\n",
       "  </tbody>\n",
       "</table>\n",
       "</div>"
      ],
      "text/plain": [
       "   timezone                  timestamp\n",
       "0       PST  2022-11-07 19:57:00-08:00\n",
       "20      EST  2022-11-18 20:48:00-05:00"
      ]
     },
     "execution_count": 8,
     "metadata": {},
     "output_type": "execute_result"
    }
   ],
   "source": [
    "df_tz_points = df[df.had_timezone]\n",
    "df_tz_points = df_tz_points[['timezone', 'timestamp']]\n",
    "df_tz_points"
   ]
  },
  {
   "cell_type": "code",
   "execution_count": 9,
   "id": "37d33514",
   "metadata": {},
   "outputs": [],
   "source": [
    "df = df.drop(columns='had_timezone')"
   ]
  },
  {
   "cell_type": "code",
   "execution_count": 10,
   "id": "0026856f",
   "metadata": {},
   "outputs": [
    {
     "ename": "AssertionError",
     "evalue": "",
     "output_type": "error",
     "traceback": [
      "\u001b[0;31m---------------------------------------------------------------------------\u001b[0m",
      "\u001b[0;31mAssertionError\u001b[0m                            Traceback (most recent call last)",
      "Cell \u001b[0;32mIn [10], line 6\u001b[0m\n\u001b[1;32m      1\u001b[0m \u001b[38;5;66;03m# This is a sanity check that our values are in order. \u001b[39;00m\n\u001b[1;32m      2\u001b[0m \u001b[38;5;66;03m# I've caught a few data errors this way:\u001b[39;00m\n\u001b[1;32m      3\u001b[0m \u001b[38;5;66;03m#  * wrong TZ info\u001b[39;00m\n\u001b[1;32m      4\u001b[0m \u001b[38;5;66;03m#  * bad date format\u001b[39;00m\n\u001b[1;32m      5\u001b[0m \u001b[38;5;66;03m#  * forgot to use 24 time.\u001b[39;00m\n\u001b[0;32m----> 6\u001b[0m \u001b[38;5;28;01massert\u001b[39;00m df\u001b[38;5;241m.\u001b[39mtimestamp\u001b[38;5;241m.\u001b[39mdiff()\u001b[38;5;241m.\u001b[39mmin() \u001b[38;5;241m>\u001b[39m timedelta(\u001b[38;5;241m0\u001b[39m)\n",
      "\u001b[0;31mAssertionError\u001b[0m: "
     ]
    }
   ],
   "source": [
    "# This is a sanity check that our values are in order. \n",
    "# I've caught a few data errors this way:\n",
    "#  * wrong TZ info\n",
    "#  * bad date format\n",
    "#  * forgot to use 24 time.\n",
    "assert df.timestamp.diff().min() > timedelta(0)"
   ]
  },
  {
   "cell_type": "code",
   "execution_count": null,
   "id": "381149d2",
   "metadata": {},
   "outputs": [],
   "source": []
  }
 ],
 "metadata": {
  "kernelspec": {
   "display_name": "Python 3 (ipykernel)",
   "language": "python",
   "name": "python3"
  },
  "language_info": {
   "codemirror_mode": {
    "name": "ipython",
    "version": 3
   },
   "file_extension": ".py",
   "mimetype": "text/x-python",
   "name": "python",
   "nbconvert_exporter": "python",
   "pygments_lexer": "ipython3",
   "version": "3.8.10"
  }
 },
 "nbformat": 4,
 "nbformat_minor": 5
}
