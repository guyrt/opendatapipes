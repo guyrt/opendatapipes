{
  "cells": [
    {
      "cell_type": "code",
      "source": [
        "!pip install -U azureml-fsspec mltable"
      ],
      "outputs": [
        {
          "output_type": "stream",
          "name": "stdout",
          "text": "Requirement already up-to-date: azureml-fsspec in /anaconda/envs/azureml_py38/lib/python3.8/site-packages (0.1.0b2)\nRequirement already up-to-date: mltable in /anaconda/envs/azureml_py38/lib/python3.8/site-packages (0.1.0b4)\nRequirement already satisfied, skipping upgrade: azureml-core in /anaconda/envs/azureml_py38/lib/python3.8/site-packages (from azureml-fsspec) (1.42.0)\nRequirement already satisfied, skipping upgrade: azureml-dataprep<4.6.0a,>=4.5.0a in /anaconda/envs/azureml_py38/lib/python3.8/site-packages (from azureml-fsspec) (4.5.7)\nRequirement already satisfied, skipping upgrade: fsspec>=2021.6.1 in /anaconda/envs/azureml_py38/lib/python3.8/site-packages (from azureml-fsspec) (2022.3.0)\nRequirement already satisfied, skipping upgrade: pyyaml<7.0.0,>=5.1.0 in /anaconda/envs/azureml_py38/lib/python3.8/site-packages (from mltable) (6.0)\nRequirement already satisfied, skipping upgrade: azure-mgmt-storage~=19.1.0 in /anaconda/envs/azureml_py38/lib/python3.8/site-packages (from mltable) (19.1.0)\nRequirement already satisfied, skipping upgrade: jsonpickle<3.0.0 in /anaconda/envs/azureml_py38/lib/python3.8/site-packages (from azureml-core->azureml-fsspec) (2.2.0)\nRequirement already satisfied, skipping upgrade: knack~=0.9.0 in /anaconda/envs/azureml_py38/lib/python3.8/site-packages (from azureml-core->azureml-fsspec) (0.9.0)\nRequirement already satisfied, skipping upgrade: urllib3<=1.26.9,>=1.23 in /anaconda/envs/azureml_py38/lib/python3.8/site-packages (from azureml-core->azureml-fsspec) (1.26.9)\nRequirement already satisfied, skipping upgrade: humanfriendly<11.0,>=4.7 in /anaconda/envs/azureml_py38/lib/python3.8/site-packages (from azureml-core->azureml-fsspec) (10.0)\nRequirement already satisfied, skipping upgrade: requests[socks]<3.0.0,>=2.19.1 in /anaconda/envs/azureml_py38/lib/python3.8/site-packages (from azureml-core->azureml-fsspec) (2.27.1)\nRequirement already satisfied, skipping upgrade: azure-graphrbac<1.0.0,>=0.40.0 in /anaconda/envs/azureml_py38/lib/python3.8/site-packages (from azureml-core->azureml-fsspec) (0.61.1)\nRequirement already satisfied, skipping upgrade: msrestazure<=0.6.4,>=0.4.33 in /anaconda/envs/azureml_py38/lib/python3.8/site-packages (from azureml-core->azureml-fsspec) (0.6.4)\nRequirement already satisfied, skipping upgrade: SecretStorage<4.0.0 in /anaconda/envs/azureml_py38/lib/python3.8/site-packages (from azureml-core->azureml-fsspec) (3.3.2)\nRequirement already satisfied, skipping upgrade: backports.tempfile in /anaconda/envs/azureml_py38/lib/python3.8/site-packages (from azureml-core->azureml-fsspec) (1.0)\nRequirement already satisfied, skipping upgrade: python-dateutil<3.0.0,>=2.7.3 in /anaconda/envs/azureml_py38/lib/python3.8/site-packages (from azureml-core->azureml-fsspec) (2.8.2)\nRequirement already satisfied, skipping upgrade: msrest<1.0.0,>=0.5.1 in /anaconda/envs/azureml_py38/lib/python3.8/site-packages (from azureml-core->azureml-fsspec) (0.6.21)\nRequirement already satisfied, skipping upgrade: contextlib2<22.0.0 in /anaconda/envs/azureml_py38/lib/python3.8/site-packages (from azureml-core->azureml-fsspec) (21.6.0)\nRequirement already satisfied, skipping upgrade: docker<6.0.0 in /anaconda/envs/azureml_py38/lib/python3.8/site-packages (from azureml-core->azureml-fsspec) (5.0.3)\nRequirement already satisfied, skipping upgrade: adal<=1.2.7,>=1.2.0 in /anaconda/envs/azureml_py38/lib/python3.8/site-packages (from azureml-core->azureml-fsspec) (1.2.7)\nRequirement already satisfied, skipping upgrade: cryptography!=1.9,!=2.0.*,!=2.1.*,!=2.2.*,<37.0.0 in /anaconda/envs/azureml_py38/lib/python3.8/site-packages (from azureml-core->azureml-fsspec) (36.0.2)\nRequirement already satisfied, skipping upgrade: pytz in /anaconda/envs/azureml_py38/lib/python3.8/site-packages (from azureml-core->azureml-fsspec) (2019.3)\nRequirement already satisfied, skipping upgrade: paramiko<3.0.0,>=2.0.8 in /anaconda/envs/azureml_py38/lib/python3.8/site-packages (from azureml-core->azureml-fsspec) (2.11.0)\nRequirement already satisfied, skipping upgrade: msal<2.0.0,>=1.15.0 in /anaconda/envs/azureml_py38/lib/python3.8/site-packages (from azureml-core->azureml-fsspec) (1.17.0)\nRequirement already satisfied, skipping upgrade: argcomplete<3 in /anaconda/envs/azureml_py38/lib/python3.8/site-packages (from azureml-core->azureml-fsspec) (2.0.0)\nRequirement already satisfied, skipping upgrade: azure-common<2.0.0,>=1.1.12 in /anaconda/envs/azureml_py38/lib/python3.8/site-packages (from azureml-core->azureml-fsspec) (1.1.28)\nRequirement already satisfied, skipping upgrade: PyJWT<3.0.0 in /anaconda/envs/azureml_py38/lib/python3.8/site-packages (from azureml-core->azureml-fsspec) (2.4.0)\nRequirement already satisfied, skipping upgrade: pyopenssl<23.0.0 in /anaconda/envs/azureml_py38/lib/python3.8/site-packages (from azureml-core->azureml-fsspec) (22.0.0)\nRequirement already satisfied, skipping upgrade: azure-mgmt-containerregistry<10,>=8.2.0 in /anaconda/envs/azureml_py38/lib/python3.8/site-packages (from azureml-core->azureml-fsspec) (9.1.0)\nRequirement already satisfied, skipping upgrade: azure-mgmt-resource<=21.0.0,>=15.0.0 in /anaconda/envs/azureml_py38/lib/python3.8/site-packages (from azureml-core->azureml-fsspec) (21.0.0)\nRequirement already satisfied, skipping upgrade: jmespath<=1.0.0 in /anaconda/envs/azureml_py38/lib/python3.8/site-packages (from azureml-core->azureml-fsspec) (0.10.0)\nRequirement already satisfied, skipping upgrade: packaging<22.0,>=20.0 in /anaconda/envs/azureml_py38/lib/python3.8/site-packages (from azureml-core->azureml-fsspec) (21.3)\nRequirement already satisfied, skipping upgrade: azure-core<=1.22.1 in /anaconda/envs/azureml_py38/lib/python3.8/site-packages (from azureml-core->azureml-fsspec) (1.22.1)\nRequirement already satisfied, skipping upgrade: azure-mgmt-authorization<3,>=0.40.0 in /anaconda/envs/azureml_py38/lib/python3.8/site-packages (from azureml-core->azureml-fsspec) (2.0.0)\nRequirement already satisfied, skipping upgrade: pkginfo in /anaconda/envs/azureml_py38/lib/python3.8/site-packages (from azureml-core->azureml-fsspec) (1.8.2)\nRequirement already satisfied, skipping upgrade: azure-mgmt-keyvault<10.0.0,>=0.40.0 in /anaconda/envs/azureml_py38/lib/python3.8/site-packages (from azureml-core->azureml-fsspec) (9.3.0)\nRequirement already satisfied, skipping upgrade: pathspec<1.0.0 in /anaconda/envs/azureml_py38/lib/python3.8/site-packages (from azureml-core->azureml-fsspec) (0.9.0)\nRequirement already satisfied, skipping upgrade: ndg-httpsclient<=0.5.1 in /anaconda/envs/azureml_py38/lib/python3.8/site-packages (from azureml-core->azureml-fsspec) (0.5.1)\nRequirement already satisfied, skipping upgrade: msal-extensions<=1.0.0,>=0.3.0 in /anaconda/envs/azureml_py38/lib/python3.8/site-packages (from azureml-core->azureml-fsspec) (0.3.1)\nRequirement already satisfied, skipping upgrade: azure-identity==1.7.0 in /anaconda/envs/azureml_py38/lib/python3.8/site-packages (from azureml-dataprep<4.6.0a,>=4.5.0a->azureml-fsspec) (1.7.0)\nRequirement already satisfied, skipping upgrade: azureml-dataprep-native<39.0.0,>=38.0.0 in /anaconda/envs/azureml_py38/lib/python3.8/site-packages (from azureml-dataprep<4.6.0a,>=4.5.0a->azureml-fsspec) (38.0.0)\nRequirement already satisfied, skipping upgrade: azureml-dataprep-rslex~=2.11.0dev0 in /anaconda/envs/azureml_py38/lib/python3.8/site-packages (from azureml-dataprep<4.6.0a,>=4.5.0a->azureml-fsspec) (2.11.4)\nRequirement already satisfied, skipping upgrade: jsonschema in /anaconda/envs/azureml_py38/lib/python3.8/site-packages (from azureml-dataprep<4.6.0a,>=4.5.0a->azureml-fsspec) (4.5.1)\nRequirement already satisfied, skipping upgrade: cloudpickle<3.0.0,>=1.1.0 in /anaconda/envs/azureml_py38/lib/python3.8/site-packages (from azureml-dataprep<4.6.0a,>=4.5.0a->azureml-fsspec) (1.6.0)\nRequirement already satisfied, skipping upgrade: dotnetcore2<4.0.0,>=3.0.0 in /anaconda/envs/azureml_py38/lib/python3.8/site-packages (from azureml-dataprep<4.6.0a,>=4.5.0a->azureml-fsspec) (3.1.23)\nRequirement already satisfied, skipping upgrade: azure-mgmt-core<2.0.0,>=1.3.0 in /anaconda/envs/azureml_py38/lib/python3.8/site-packages (from azure-mgmt-storage~=19.1.0->mltable) (1.3.0)\nRequirement already satisfied, skipping upgrade: pygments in /anaconda/envs/azureml_py38/lib/python3.8/site-packages (from knack~=0.9.0->azureml-core->azureml-fsspec) (2.12.0)\nRequirement already satisfied, skipping upgrade: tabulate in /anaconda/envs/azureml_py38/lib/python3.8/site-packages (from knack~=0.9.0->azureml-core->azureml-fsspec) (0.8.9)\nRequirement already satisfied, skipping upgrade: idna<4,>=2.5; python_version >= \"3\" in /anaconda/envs/azureml_py38/lib/python3.8/site-packages (from requests[socks]<3.0.0,>=2.19.1->azureml-core->azureml-fsspec) (3.3)\nRequirement already satisfied, skipping upgrade: charset-normalizer~=2.0.0; python_version >= \"3\" in /anaconda/envs/azureml_py38/lib/python3.8/site-packages (from requests[socks]<3.0.0,>=2.19.1->azureml-core->azureml-fsspec) (2.0.12)\nRequirement already satisfied, skipping upgrade: certifi>=2017.4.17 in /anaconda/envs/azureml_py38/lib/python3.8/site-packages (from requests[socks]<3.0.0,>=2.19.1->azureml-core->azureml-fsspec) (2022.5.18.1)\nRequirement already satisfied, skipping upgrade: PySocks!=1.5.7,>=1.5.6; extra == \"socks\" in /anaconda/envs/azureml_py38/lib/python3.8/site-packages (from requests[socks]<3.0.0,>=2.19.1->azureml-core->azureml-fsspec) (1.7.1)\nRequirement already satisfied, skipping upgrade: six in /anaconda/envs/azureml_py38/lib/python3.8/site-packages (from msrestazure<=0.6.4,>=0.4.33->azureml-core->azureml-fsspec) (1.16.0)\nRequirement already satisfied, skipping upgrade: jeepney>=0.6 in /anaconda/envs/azureml_py38/lib/python3.8/site-packages (from SecretStorage<4.0.0->azureml-core->azureml-fsspec) (0.8.0)\nRequirement already satisfied, skipping upgrade: backports.weakref in /anaconda/envs/azureml_py38/lib/python3.8/site-packages (from backports.tempfile->azureml-core->azureml-fsspec) (1.0.post1)\nRequirement already satisfied, skipping upgrade: isodate>=0.6.0 in /anaconda/envs/azureml_py38/lib/python3.8/site-packages (from msrest<1.0.0,>=0.5.1->azureml-core->azureml-fsspec) (0.6.1)\nRequirement already satisfied, skipping upgrade: requests-oauthlib>=0.5.0 in /anaconda/envs/azureml_py38/lib/python3.8/site-packages (from msrest<1.0.0,>=0.5.1->azureml-core->azureml-fsspec) (1.3.1)\nRequirement already satisfied, skipping upgrade: websocket-client>=0.32.0 in /anaconda/envs/azureml_py38/lib/python3.8/site-packages (from docker<6.0.0->azureml-core->azureml-fsspec) (1.3.2)\nRequirement already satisfied, skipping upgrade: cffi>=1.12 in /anaconda/envs/azureml_py38/lib/python3.8/site-packages (from cryptography!=1.9,!=2.0.*,!=2.1.*,!=2.2.*,<37.0.0->azureml-core->azureml-fsspec) (1.15.0)\nRequirement already satisfied, skipping upgrade: bcrypt>=3.1.3 in /anaconda/envs/azureml_py38/lib/python3.8/site-packages (from paramiko<3.0.0,>=2.0.8->azureml-core->azureml-fsspec) (3.2.2)\nRequirement already satisfied, skipping upgrade: pynacl>=1.0.1 in /anaconda/envs/azureml_py38/lib/python3.8/site-packages (from paramiko<3.0.0,>=2.0.8->azureml-core->azureml-fsspec) (1.5.0)\nRequirement already satisfied, skipping upgrade: pyparsing!=3.0.5,>=2.0.2 in /anaconda/envs/azureml_py38/lib/python3.8/site-packages (from packaging<22.0,>=20.0->azureml-core->azureml-fsspec) (3.0.9)\nRequirement already satisfied, skipping upgrade: pyasn1>=0.1.1 in /anaconda/envs/azureml_py38/lib/python3.8/site-packages (from ndg-httpsclient<=0.5.1->azureml-core->azureml-fsspec) (0.4.8)\nRequirement already satisfied, skipping upgrade: portalocker<3,>=1.0; python_version >= \"3.5\" and platform_system != \"Windows\" in /anaconda/envs/azureml_py38/lib/python3.8/site-packages (from msal-extensions<=1.0.0,>=0.3.0->azureml-core->azureml-fsspec) (2.4.0)\nRequirement already satisfied, skipping upgrade: importlib-resources>=1.4.0; python_version < \"3.9\" in /anaconda/envs/azureml_py38/lib/python3.8/site-packages (from jsonschema->azureml-dataprep<4.6.0a,>=4.5.0a->azureml-fsspec) (5.7.1)\nRequirement already satisfied, skipping upgrade: pyrsistent!=0.17.0,!=0.17.1,!=0.17.2,>=0.14.0 in /anaconda/envs/azureml_py38/lib/python3.8/site-packages (from jsonschema->azureml-dataprep<4.6.0a,>=4.5.0a->azureml-fsspec) (0.18.1)\nRequirement already satisfied, skipping upgrade: attrs>=17.4.0 in /anaconda/envs/azureml_py38/lib/python3.8/site-packages (from jsonschema->azureml-dataprep<4.6.0a,>=4.5.0a->azureml-fsspec) (21.4.0)\nRequirement already satisfied, skipping upgrade: distro>=1.2.0 in /anaconda/envs/azureml_py38/lib/python3.8/site-packages (from dotnetcore2<4.0.0,>=3.0.0->azureml-dataprep<4.6.0a,>=4.5.0a->azureml-fsspec) (1.7.0)\nRequirement already satisfied, skipping upgrade: oauthlib>=3.0.0 in /anaconda/envs/azureml_py38/lib/python3.8/site-packages (from requests-oauthlib>=0.5.0->msrest<1.0.0,>=0.5.1->azureml-core->azureml-fsspec) (3.2.0)\nRequirement already satisfied, skipping upgrade: pycparser in /anaconda/envs/azureml_py38/lib/python3.8/site-packages (from cffi>=1.12->cryptography!=1.9,!=2.0.*,!=2.1.*,!=2.2.*,<37.0.0->azureml-core->azureml-fsspec) (2.21)\nRequirement already satisfied, skipping upgrade: zipp>=3.1.0; python_version < \"3.10\" in /anaconda/envs/azureml_py38/lib/python3.8/site-packages (from importlib-resources>=1.4.0; python_version < \"3.9\"->jsonschema->azureml-dataprep<4.6.0a,>=4.5.0a->azureml-fsspec) (3.8.0)\n"
        }
      ],
      "execution_count": 10,
      "metadata": {
        "jupyter": {
          "source_hidden": false,
          "outputs_hidden": true
        },
        "nteract": {
          "transient": {
            "deleting": false
          }
        }
      }
    },
    {
      "cell_type": "code",
      "source": [
        "from azureml.fsspec import AzureMachineLearningFileSystem\r\n",
        "import numpy as np\r\n",
        "import pandas as pd"
      ],
      "outputs": [],
      "execution_count": 13,
      "metadata": {
        "jupyter": {
          "source_hidden": false,
          "outputs_hidden": false
        },
        "nteract": {
          "transient": {
            "deleting": false
          }
        },
        "gather": {
          "logged": 1668986330953
        }
      }
    },
    {
      "cell_type": "code",
      "source": [
        "from azureml.core import Workspace, Dataset, Datastore\r\n",
        "\r\n",
        "subscription = 'f48a2553-c966-4d06-8faa-c5096da10254'\r\n",
        "resource_group = 'rg-fecdata'\r\n",
        "workspace = 'fecaml'\r\n",
        "datastore_name = 'amitoosweet'\r\n",
        "path_on_datastore = 'clarityUploads'\r\n",
        "\r\n",
        "# long-form Datastore uri format:\r\n",
        "uri = f'azureml://subscriptions/{subscription}/resourcegroups/{resource_group}/workspaces/{workspace}/datastores/{datastore_name}/paths/{path_on_datastore}'\r\n",
        "\r\n",
        "uri"
      ],
      "outputs": [
        {
          "output_type": "execute_result",
          "execution_count": 2,
          "data": {
            "text/plain": "'azureml://subscriptions/f48a2553-c966-4d06-8faa-c5096da10254/resourcegroups/rg-fecdata/workspaces/fecaml/datastores/amitoosweet/paths/clarityUploads'"
          },
          "metadata": {}
        }
      ],
      "execution_count": 2,
      "metadata": {
        "gather": {
          "logged": 1668986088831
        }
      }
    },
    {
      "cell_type": "code",
      "source": [
        "# instantiate file system using datastore URI\r\n",
        "fs = AzureMachineLearningFileSystem(uri)\r\n",
        "\r\n",
        "pandas_frames = []\r\n",
        "for path in fs.ls():\r\n",
        "    print(f'Reading from {path}')\r\n",
        "    with fs.open(path) as f:\r\n",
        "        pandas_frames.append(pd.read_csv(f, header=0))\r\n",
        "\r\n",
        "print(f'concating {len(pandas_frames)} frames')\r\n",
        "full_df = pd.concat(pandas_frames)\r\n"
      ],
      "outputs": [],
      "execution_count": 3,
      "metadata": {
        "jupyter": {
          "source_hidden": false,
          "outputs_hidden": false
        },
        "nteract": {
          "transient": {
            "deleting": false
          }
        },
        "gather": {
          "logged": 1668986094016
        }
      }
    },
    {
      "cell_type": "code",
      "source": [
        "# pull out EGV events only\r\n",
        "egv_events = full_df[full_df['Event Type'] == \"EGV\"]\r\n",
        "egv_events = egv_events[['Timestamp (YYYY-MM-DDThh:mm:ss)', 'Source Device ID',\r\n",
        "       'Glucose Value (mg/dL)', 'Transmitter Time (Long Integer)', 'Transmitter ID']]\r\n",
        "\r\n",
        "egv_events = egv_events.drop_duplicates(keep='last', subset='Timestamp (YYYY-MM-DDThh:mm:ss)')\r\n",
        "egv_events.columns = ['timestamp_str', 'source_device', 'glucose', 'transmittertime', 'transmitter_id']"
      ],
      "outputs": [],
      "execution_count": 4,
      "metadata": {
        "jupyter": {
          "source_hidden": false,
          "outputs_hidden": false
        },
        "nteract": {
          "transient": {
            "deleting": false
          }
        },
        "gather": {
          "logged": 1668986094294
        }
      }
    },
    {
      "cell_type": "code",
      "source": [
        "# interpolate gaps (linear) to get clean 5 mins \r\n",
        "egv_events['timestamp'] = pd.to_datetime(egv_events['timestamp_str'], format='%Y-%m-%dT%H:%M:%S')\r\n",
        "egv_events['timestamp_diff'] = egv_events.timestamp.diff()"
      ],
      "outputs": [],
      "execution_count": 10,
      "metadata": {
        "jupyter": {
          "source_hidden": false,
          "outputs_hidden": false
        },
        "nteract": {
          "transient": {
            "deleting": false
          }
        },
        "gather": {
          "logged": 1668986267335
        }
      }
    },
    {
      "cell_type": "code",
      "source": [
        "gaps = egv_events[egv_events.timestamp_diff >= np.timedelta64(6, 'm')].index"
      ],
      "outputs": [
        {
          "output_type": "execute_result",
          "execution_count": 51,
          "data": {
            "text/plain": "            timestamp_str source_device glucose  transmittertime  \\\n1214  2022-11-12T02:14:33    Android G6     176         367574.0   \n2816  2022-11-17T17:44:53    Android G6     204         855374.0   \n\n     transmitter_id           timestamp  timestamp_diff  \n1214         8FELKW 2022-11-12 02:14:33 0 days 00:25:00  \n2816         8FELKW 2022-11-17 17:44:53 0 days 02:10:01  ",
            "text/html": "<div>\n<style scoped>\n    .dataframe tbody tr th:only-of-type {\n        vertical-align: middle;\n    }\n\n    .dataframe tbody tr th {\n        vertical-align: top;\n    }\n\n    .dataframe thead th {\n        text-align: right;\n    }\n</style>\n<table border=\"1\" class=\"dataframe\">\n  <thead>\n    <tr style=\"text-align: right;\">\n      <th></th>\n      <th>timestamp_str</th>\n      <th>source_device</th>\n      <th>glucose</th>\n      <th>transmittertime</th>\n      <th>transmitter_id</th>\n      <th>timestamp</th>\n      <th>timestamp_diff</th>\n    </tr>\n  </thead>\n  <tbody>\n    <tr>\n      <th>1214</th>\n      <td>2022-11-12T02:14:33</td>\n      <td>Android G6</td>\n      <td>176</td>\n      <td>367574.0</td>\n      <td>8FELKW</td>\n      <td>2022-11-12 02:14:33</td>\n      <td>0 days 00:25:00</td>\n    </tr>\n    <tr>\n      <th>2816</th>\n      <td>2022-11-17T17:44:53</td>\n      <td>Android G6</td>\n      <td>204</td>\n      <td>855374.0</td>\n      <td>8FELKW</td>\n      <td>2022-11-17 17:44:53</td>\n      <td>0 days 02:10:01</td>\n    </tr>\n  </tbody>\n</table>\n</div>"
          },
          "metadata": {}
        }
      ],
      "execution_count": 51,
      "metadata": {
        "jupyter": {
          "source_hidden": false,
          "outputs_hidden": false
        },
        "nteract": {
          "transient": {
            "deleting": false
          }
        },
        "gather": {
          "logged": 1668989735730
        }
      }
    },
    {
      "cell_type": "code",
      "source": [
        "new_time_slots = []\r\n",
        "\r\n",
        "for low, high in zip(gaps-1, gaps):\r\n",
        "    start_event = egv_events.loc[low]\r\n",
        "    end_event = egv_events.loc[high]\r\n",
        "    start = start_event.timestamp\r\n",
        "    end = end_event.timestamp\r\n",
        "    start_time = start\r\n",
        "    previous_start_time = start\r\n",
        "    transmitter_id = start_event['transmitter_id'] if start_event['transmitter_id'] == end_event['transmitter_id'] else \"Switch\"\r\n",
        "    while end - start_time >= np.timedelta64(5, 'm'):\r\n",
        "        start_time += np.timedelta64(5, 'm')\r\n",
        "        new_time_slots.append({\r\n",
        "            'timestamp_str': str(start_time), \r\n",
        "            'source_device': 'Interpolate',\r\n",
        "            'glucose': np.nan,\r\n",
        "            'trasmittertime': -1,\r\n",
        "            'transmitter_id': transmitter_id,\r\n",
        "            'timestamp': start_time,\r\n",
        "            'timestamp_diff': start_time - previous_start_time\r\n",
        "        })\r\n",
        "        previous_start_time = start_time\r\n"
      ],
      "outputs": [],
      "execution_count": 69,
      "metadata": {
        "jupyter": {
          "source_hidden": false,
          "outputs_hidden": false
        },
        "nteract": {
          "transient": {
            "deleting": false
          }
        },
        "gather": {
          "logged": 1668992188800
        }
      }
    },
    {
      "cell_type": "code",
      "source": [
        "# create basic rows here\r\n",
        "new_data = pd.DataFrame(new_time_slots)\r\n",
        "egv_events_with_interpolate = pd.concat([egv_events, new_data])\r\n",
        "egv_events_with_interpolate.sort_values(by='timestamp', inplace=True)\r\n",
        "egv_events_with_interpolate.set_index('timestamp').glucose.interpolate(method='cubic', inplace=True)\r\n",
        "egv_events_with_interpolate.reset_index()\r\n",
        "\r\n",
        "# assert all diffs < 6 mins\r\n",
        "assert egv_events_with_interpolate.timestamp.diff().max() < np.timedelta64(6, 'm')"
      ],
      "outputs": [],
      "execution_count": 73,
      "metadata": {
        "jupyter": {
          "source_hidden": false,
          "outputs_hidden": false
        },
        "nteract": {
          "transient": {
            "deleting": false
          }
        },
        "gather": {
          "logged": 1668992291222
        }
      }
    },
    {
      "cell_type": "code",
      "source": [],
      "outputs": [],
      "execution_count": null,
      "metadata": {
        "jupyter": {
          "source_hidden": false,
          "outputs_hidden": false
        },
        "nteract": {
          "transient": {
            "deleting": false
          }
        },
        "gather": {
          "logged": 1668992132957
        }
      }
    },
    {
      "cell_type": "code",
      "source": [],
      "outputs": [],
      "execution_count": null,
      "metadata": {
        "jupyter": {
          "source_hidden": false,
          "outputs_hidden": false
        },
        "nteract": {
          "transient": {
            "deleting": false
          }
        }
      }
    }
  ],
  "metadata": {
    "kernelspec": {
      "name": "python38-azureml",
      "language": "python",
      "display_name": "Python 3.8 - AzureML"
    },
    "language_info": {
      "name": "python",
      "version": "3.8.5",
      "mimetype": "text/x-python",
      "codemirror_mode": {
        "name": "ipython",
        "version": 3
      },
      "pygments_lexer": "ipython3",
      "nbconvert_exporter": "python",
      "file_extension": ".py"
    },
    "kernel_info": {
      "name": "python38-azureml"
    },
    "microsoft": {
      "host": {
        "AzureML": {
          "notebookHasBeenCompleted": true
        }
      }
    },
    "nteract": {
      "version": "nteract-front-end@1.0.0"
    }
  },
  "nbformat": 4,
  "nbformat_minor": 2
}