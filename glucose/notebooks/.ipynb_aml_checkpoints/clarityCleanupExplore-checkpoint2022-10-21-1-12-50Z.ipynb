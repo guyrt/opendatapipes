{
  "cells": [
    {
      "cell_type": "code",
      "source": [
        "!pip install -U azureml-fsspec mltable"
      ],
      "outputs": [
        {
          "output_type": "stream",
          "name": "stdout",
          "text": "Requirement already up-to-date: azureml-fsspec in /anaconda/envs/azureml_py38/lib/python3.8/site-packages (0.1.0b2)\nRequirement already up-to-date: mltable in /anaconda/envs/azureml_py38/lib/python3.8/site-packages (0.1.0b4)\nRequirement already satisfied, skipping upgrade: azureml-core in /anaconda/envs/azureml_py38/lib/python3.8/site-packages (from azureml-fsspec) (1.42.0)\nRequirement already satisfied, skipping upgrade: azureml-dataprep<4.6.0a,>=4.5.0a in /anaconda/envs/azureml_py38/lib/python3.8/site-packages (from azureml-fsspec) (4.5.7)\nRequirement already satisfied, skipping upgrade: fsspec>=2021.6.1 in /anaconda/envs/azureml_py38/lib/python3.8/site-packages (from azureml-fsspec) (2022.3.0)\nRequirement already satisfied, skipping upgrade: pyyaml<7.0.0,>=5.1.0 in /anaconda/envs/azureml_py38/lib/python3.8/site-packages (from mltable) (6.0)\nRequirement already satisfied, skipping upgrade: azure-mgmt-storage~=19.1.0 in /anaconda/envs/azureml_py38/lib/python3.8/site-packages (from mltable) (19.1.0)\nRequirement already satisfied, skipping upgrade: jsonpickle<3.0.0 in /anaconda/envs/azureml_py38/lib/python3.8/site-packages (from azureml-core->azureml-fsspec) (2.2.0)\nRequirement already satisfied, skipping upgrade: knack~=0.9.0 in /anaconda/envs/azureml_py38/lib/python3.8/site-packages (from azureml-core->azureml-fsspec) (0.9.0)\nRequirement already satisfied, skipping upgrade: urllib3<=1.26.9,>=1.23 in /anaconda/envs/azureml_py38/lib/python3.8/site-packages (from azureml-core->azureml-fsspec) (1.26.9)\nRequirement already satisfied, skipping upgrade: humanfriendly<11.0,>=4.7 in /anaconda/envs/azureml_py38/lib/python3.8/site-packages (from azureml-core->azureml-fsspec) (10.0)\nRequirement already satisfied, skipping upgrade: requests[socks]<3.0.0,>=2.19.1 in /anaconda/envs/azureml_py38/lib/python3.8/site-packages (from azureml-core->azureml-fsspec) (2.27.1)\nRequirement already satisfied, skipping upgrade: azure-graphrbac<1.0.0,>=0.40.0 in /anaconda/envs/azureml_py38/lib/python3.8/site-packages (from azureml-core->azureml-fsspec) (0.61.1)\nRequirement already satisfied, skipping upgrade: msrestazure<=0.6.4,>=0.4.33 in /anaconda/envs/azureml_py38/lib/python3.8/site-packages (from azureml-core->azureml-fsspec) (0.6.4)\nRequirement already satisfied, skipping upgrade: SecretStorage<4.0.0 in /anaconda/envs/azureml_py38/lib/python3.8/site-packages (from azureml-core->azureml-fsspec) (3.3.2)\nRequirement already satisfied, skipping upgrade: backports.tempfile in /anaconda/envs/azureml_py38/lib/python3.8/site-packages (from azureml-core->azureml-fsspec) (1.0)\nRequirement already satisfied, skipping upgrade: python-dateutil<3.0.0,>=2.7.3 in /anaconda/envs/azureml_py38/lib/python3.8/site-packages (from azureml-core->azureml-fsspec) (2.8.2)\nRequirement already satisfied, skipping upgrade: msrest<1.0.0,>=0.5.1 in /anaconda/envs/azureml_py38/lib/python3.8/site-packages (from azureml-core->azureml-fsspec) (0.6.21)\nRequirement already satisfied, skipping upgrade: contextlib2<22.0.0 in /anaconda/envs/azureml_py38/lib/python3.8/site-packages (from azureml-core->azureml-fsspec) (21.6.0)\nRequirement already satisfied, skipping upgrade: docker<6.0.0 in /anaconda/envs/azureml_py38/lib/python3.8/site-packages (from azureml-core->azureml-fsspec) (5.0.3)\nRequirement already satisfied, skipping upgrade: adal<=1.2.7,>=1.2.0 in /anaconda/envs/azureml_py38/lib/python3.8/site-packages (from azureml-core->azureml-fsspec) (1.2.7)\nRequirement already satisfied, skipping upgrade: cryptography!=1.9,!=2.0.*,!=2.1.*,!=2.2.*,<37.0.0 in /anaconda/envs/azureml_py38/lib/python3.8/site-packages (from azureml-core->azureml-fsspec) (36.0.2)\nRequirement already satisfied, skipping upgrade: pytz in /anaconda/envs/azureml_py38/lib/python3.8/site-packages (from azureml-core->azureml-fsspec) (2019.3)\nRequirement already satisfied, skipping upgrade: paramiko<3.0.0,>=2.0.8 in /anaconda/envs/azureml_py38/lib/python3.8/site-packages (from azureml-core->azureml-fsspec) (2.11.0)\nRequirement already satisfied, skipping upgrade: msal<2.0.0,>=1.15.0 in /anaconda/envs/azureml_py38/lib/python3.8/site-packages (from azureml-core->azureml-fsspec) (1.17.0)\nRequirement already satisfied, skipping upgrade: argcomplete<3 in /anaconda/envs/azureml_py38/lib/python3.8/site-packages (from azureml-core->azureml-fsspec) (2.0.0)\nRequirement already satisfied, skipping upgrade: azure-common<2.0.0,>=1.1.12 in /anaconda/envs/azureml_py38/lib/python3.8/site-packages (from azureml-core->azureml-fsspec) (1.1.28)\nRequirement already satisfied, skipping upgrade: PyJWT<3.0.0 in /anaconda/envs/azureml_py38/lib/python3.8/site-packages (from azureml-core->azureml-fsspec) (2.4.0)\nRequirement already satisfied, skipping upgrade: pyopenssl<23.0.0 in /anaconda/envs/azureml_py38/lib/python3.8/site-packages (from azureml-core->azureml-fsspec) (22.0.0)\nRequirement already satisfied, skipping upgrade: azure-mgmt-containerregistry<10,>=8.2.0 in /anaconda/envs/azureml_py38/lib/python3.8/site-packages (from azureml-core->azureml-fsspec) (9.1.0)\nRequirement already satisfied, skipping upgrade: azure-mgmt-resource<=21.0.0,>=15.0.0 in /anaconda/envs/azureml_py38/lib/python3.8/site-packages (from azureml-core->azureml-fsspec) (21.0.0)\nRequirement already satisfied, skipping upgrade: jmespath<=1.0.0 in /anaconda/envs/azureml_py38/lib/python3.8/site-packages (from azureml-core->azureml-fsspec) (0.10.0)\nRequirement already satisfied, skipping upgrade: packaging<22.0,>=20.0 in /anaconda/envs/azureml_py38/lib/python3.8/site-packages (from azureml-core->azureml-fsspec) (21.3)\nRequirement already satisfied, skipping upgrade: azure-core<=1.22.1 in /anaconda/envs/azureml_py38/lib/python3.8/site-packages (from azureml-core->azureml-fsspec) (1.22.1)\nRequirement already satisfied, skipping upgrade: azure-mgmt-authorization<3,>=0.40.0 in /anaconda/envs/azureml_py38/lib/python3.8/site-packages (from azureml-core->azureml-fsspec) (2.0.0)\nRequirement already satisfied, skipping upgrade: pkginfo in /anaconda/envs/azureml_py38/lib/python3.8/site-packages (from azureml-core->azureml-fsspec) (1.8.2)\nRequirement already satisfied, skipping upgrade: azure-mgmt-keyvault<10.0.0,>=0.40.0 in /anaconda/envs/azureml_py38/lib/python3.8/site-packages (from azureml-core->azureml-fsspec) (9.3.0)\nRequirement already satisfied, skipping upgrade: pathspec<1.0.0 in /anaconda/envs/azureml_py38/lib/python3.8/site-packages (from azureml-core->azureml-fsspec) (0.9.0)\nRequirement already satisfied, skipping upgrade: ndg-httpsclient<=0.5.1 in /anaconda/envs/azureml_py38/lib/python3.8/site-packages (from azureml-core->azureml-fsspec) (0.5.1)\nRequirement already satisfied, skipping upgrade: msal-extensions<=1.0.0,>=0.3.0 in /anaconda/envs/azureml_py38/lib/python3.8/site-packages (from azureml-core->azureml-fsspec) (0.3.1)\nRequirement already satisfied, skipping upgrade: azure-identity==1.7.0 in /anaconda/envs/azureml_py38/lib/python3.8/site-packages (from azureml-dataprep<4.6.0a,>=4.5.0a->azureml-fsspec) (1.7.0)\nRequirement already satisfied, skipping upgrade: azureml-dataprep-native<39.0.0,>=38.0.0 in /anaconda/envs/azureml_py38/lib/python3.8/site-packages (from azureml-dataprep<4.6.0a,>=4.5.0a->azureml-fsspec) (38.0.0)\nRequirement already satisfied, skipping upgrade: azureml-dataprep-rslex~=2.11.0dev0 in /anaconda/envs/azureml_py38/lib/python3.8/site-packages (from azureml-dataprep<4.6.0a,>=4.5.0a->azureml-fsspec) (2.11.4)\nRequirement already satisfied, skipping upgrade: jsonschema in /anaconda/envs/azureml_py38/lib/python3.8/site-packages (from azureml-dataprep<4.6.0a,>=4.5.0a->azureml-fsspec) (4.5.1)\nRequirement already satisfied, skipping upgrade: cloudpickle<3.0.0,>=1.1.0 in /anaconda/envs/azureml_py38/lib/python3.8/site-packages (from azureml-dataprep<4.6.0a,>=4.5.0a->azureml-fsspec) (1.6.0)\nRequirement already satisfied, skipping upgrade: dotnetcore2<4.0.0,>=3.0.0 in /anaconda/envs/azureml_py38/lib/python3.8/site-packages (from azureml-dataprep<4.6.0a,>=4.5.0a->azureml-fsspec) (3.1.23)\nRequirement already satisfied, skipping upgrade: azure-mgmt-core<2.0.0,>=1.3.0 in /anaconda/envs/azureml_py38/lib/python3.8/site-packages (from azure-mgmt-storage~=19.1.0->mltable) (1.3.0)\nRequirement already satisfied, skipping upgrade: pygments in /anaconda/envs/azureml_py38/lib/python3.8/site-packages (from knack~=0.9.0->azureml-core->azureml-fsspec) (2.12.0)\nRequirement already satisfied, skipping upgrade: tabulate in /anaconda/envs/azureml_py38/lib/python3.8/site-packages (from knack~=0.9.0->azureml-core->azureml-fsspec) (0.8.9)\nRequirement already satisfied, skipping upgrade: idna<4,>=2.5; python_version >= \"3\" in /anaconda/envs/azureml_py38/lib/python3.8/site-packages (from requests[socks]<3.0.0,>=2.19.1->azureml-core->azureml-fsspec) (3.3)\nRequirement already satisfied, skipping upgrade: charset-normalizer~=2.0.0; python_version >= \"3\" in /anaconda/envs/azureml_py38/lib/python3.8/site-packages (from requests[socks]<3.0.0,>=2.19.1->azureml-core->azureml-fsspec) (2.0.12)\nRequirement already satisfied, skipping upgrade: certifi>=2017.4.17 in /anaconda/envs/azureml_py38/lib/python3.8/site-packages (from requests[socks]<3.0.0,>=2.19.1->azureml-core->azureml-fsspec) (2022.5.18.1)\nRequirement already satisfied, skipping upgrade: PySocks!=1.5.7,>=1.5.6; extra == \"socks\" in /anaconda/envs/azureml_py38/lib/python3.8/site-packages (from requests[socks]<3.0.0,>=2.19.1->azureml-core->azureml-fsspec) (1.7.1)\nRequirement already satisfied, skipping upgrade: six in /anaconda/envs/azureml_py38/lib/python3.8/site-packages (from msrestazure<=0.6.4,>=0.4.33->azureml-core->azureml-fsspec) (1.16.0)\nRequirement already satisfied, skipping upgrade: jeepney>=0.6 in /anaconda/envs/azureml_py38/lib/python3.8/site-packages (from SecretStorage<4.0.0->azureml-core->azureml-fsspec) (0.8.0)\nRequirement already satisfied, skipping upgrade: backports.weakref in /anaconda/envs/azureml_py38/lib/python3.8/site-packages (from backports.tempfile->azureml-core->azureml-fsspec) (1.0.post1)\nRequirement already satisfied, skipping upgrade: isodate>=0.6.0 in /anaconda/envs/azureml_py38/lib/python3.8/site-packages (from msrest<1.0.0,>=0.5.1->azureml-core->azureml-fsspec) (0.6.1)\nRequirement already satisfied, skipping upgrade: requests-oauthlib>=0.5.0 in /anaconda/envs/azureml_py38/lib/python3.8/site-packages (from msrest<1.0.0,>=0.5.1->azureml-core->azureml-fsspec) (1.3.1)\nRequirement already satisfied, skipping upgrade: websocket-client>=0.32.0 in /anaconda/envs/azureml_py38/lib/python3.8/site-packages (from docker<6.0.0->azureml-core->azureml-fsspec) (1.3.2)\nRequirement already satisfied, skipping upgrade: cffi>=1.12 in /anaconda/envs/azureml_py38/lib/python3.8/site-packages (from cryptography!=1.9,!=2.0.*,!=2.1.*,!=2.2.*,<37.0.0->azureml-core->azureml-fsspec) (1.15.0)\nRequirement already satisfied, skipping upgrade: bcrypt>=3.1.3 in /anaconda/envs/azureml_py38/lib/python3.8/site-packages (from paramiko<3.0.0,>=2.0.8->azureml-core->azureml-fsspec) (3.2.2)\nRequirement already satisfied, skipping upgrade: pynacl>=1.0.1 in /anaconda/envs/azureml_py38/lib/python3.8/site-packages (from paramiko<3.0.0,>=2.0.8->azureml-core->azureml-fsspec) (1.5.0)\nRequirement already satisfied, skipping upgrade: pyparsing!=3.0.5,>=2.0.2 in /anaconda/envs/azureml_py38/lib/python3.8/site-packages (from packaging<22.0,>=20.0->azureml-core->azureml-fsspec) (3.0.9)\nRequirement already satisfied, skipping upgrade: pyasn1>=0.1.1 in /anaconda/envs/azureml_py38/lib/python3.8/site-packages (from ndg-httpsclient<=0.5.1->azureml-core->azureml-fsspec) (0.4.8)\nRequirement already satisfied, skipping upgrade: portalocker<3,>=1.0; python_version >= \"3.5\" and platform_system != \"Windows\" in /anaconda/envs/azureml_py38/lib/python3.8/site-packages (from msal-extensions<=1.0.0,>=0.3.0->azureml-core->azureml-fsspec) (2.4.0)\nRequirement already satisfied, skipping upgrade: importlib-resources>=1.4.0; python_version < \"3.9\" in /anaconda/envs/azureml_py38/lib/python3.8/site-packages (from jsonschema->azureml-dataprep<4.6.0a,>=4.5.0a->azureml-fsspec) (5.7.1)\nRequirement already satisfied, skipping upgrade: pyrsistent!=0.17.0,!=0.17.1,!=0.17.2,>=0.14.0 in /anaconda/envs/azureml_py38/lib/python3.8/site-packages (from jsonschema->azureml-dataprep<4.6.0a,>=4.5.0a->azureml-fsspec) (0.18.1)\nRequirement already satisfied, skipping upgrade: attrs>=17.4.0 in /anaconda/envs/azureml_py38/lib/python3.8/site-packages (from jsonschema->azureml-dataprep<4.6.0a,>=4.5.0a->azureml-fsspec) (21.4.0)\nRequirement already satisfied, skipping upgrade: distro>=1.2.0 in /anaconda/envs/azureml_py38/lib/python3.8/site-packages (from dotnetcore2<4.0.0,>=3.0.0->azureml-dataprep<4.6.0a,>=4.5.0a->azureml-fsspec) (1.7.0)\nRequirement already satisfied, skipping upgrade: oauthlib>=3.0.0 in /anaconda/envs/azureml_py38/lib/python3.8/site-packages (from requests-oauthlib>=0.5.0->msrest<1.0.0,>=0.5.1->azureml-core->azureml-fsspec) (3.2.0)\nRequirement already satisfied, skipping upgrade: pycparser in /anaconda/envs/azureml_py38/lib/python3.8/site-packages (from cffi>=1.12->cryptography!=1.9,!=2.0.*,!=2.1.*,!=2.2.*,<37.0.0->azureml-core->azureml-fsspec) (2.21)\nRequirement already satisfied, skipping upgrade: zipp>=3.1.0; python_version < \"3.10\" in /anaconda/envs/azureml_py38/lib/python3.8/site-packages (from importlib-resources>=1.4.0; python_version < \"3.9\"->jsonschema->azureml-dataprep<4.6.0a,>=4.5.0a->azureml-fsspec) (3.8.0)\n"
        }
      ],
      "execution_count": 10,
      "metadata": {
        "jupyter": {
          "source_hidden": false,
          "outputs_hidden": true
        },
        "nteract": {
          "transient": {
            "deleting": false
          }
        }
      }
    },
    {
      "cell_type": "code",
      "source": [
        "from azureml.fsspec import AzureMachineLearningFileSystem\r\n",
        "import numpy as np\r\n",
        "import pandas as pd"
      ],
      "outputs": [],
      "execution_count": 13,
      "metadata": {
        "jupyter": {
          "source_hidden": false,
          "outputs_hidden": false
        },
        "nteract": {
          "transient": {
            "deleting": false
          }
        },
        "gather": {
          "logged": 1668986330953
        }
      }
    },
    {
      "cell_type": "code",
      "source": [
        "from azureml.core import Workspace, Dataset, Datastore\r\n",
        "\r\n",
        "subscription = 'f48a2553-c966-4d06-8faa-c5096da10254'\r\n",
        "resource_group = 'rg-fecdata'\r\n",
        "workspace = 'fecaml'\r\n",
        "datastore_name = 'amitoosweet'\r\n",
        "path_on_datastore = 'clarityUploads'\r\n",
        "\r\n",
        "# long-form Datastore uri format:\r\n",
        "uri = f'azureml://subscriptions/{subscription}/resourcegroups/{resource_group}/workspaces/{workspace}/datastores/{datastore_name}/paths/{path_on_datastore}'\r\n",
        "\r\n",
        "uri"
      ],
      "outputs": [
        {
          "output_type": "execute_result",
          "execution_count": 2,
          "data": {
            "text/plain": "'azureml://subscriptions/f48a2553-c966-4d06-8faa-c5096da10254/resourcegroups/rg-fecdata/workspaces/fecaml/datastores/amitoosweet/paths/clarityUploads'"
          },
          "metadata": {}
        }
      ],
      "execution_count": 2,
      "metadata": {
        "gather": {
          "logged": 1668986088831
        }
      }
    },
    {
      "cell_type": "code",
      "source": [
        "# instantiate file system using datastore URI\r\n",
        "fs = AzureMachineLearningFileSystem(uri)\r\n",
        "\r\n",
        "pandas_frames = []\r\n",
        "for path in fs.ls():\r\n",
        "    print(f'Reading from {path}')\r\n",
        "    with fs.open(path) as f:\r\n",
        "        pandas_frames.append(pd.read_csv(f, header=0))\r\n",
        "\r\n",
        "print(f'concating {len(pandas_frames)} frames')\r\n",
        "full_df = pd.concat(pandas_frames)\r\n"
      ],
      "outputs": [],
      "execution_count": 3,
      "metadata": {
        "jupyter": {
          "source_hidden": false,
          "outputs_hidden": false
        },
        "nteract": {
          "transient": {
            "deleting": false
          }
        },
        "gather": {
          "logged": 1668986094016
        }
      }
    },
    {
      "cell_type": "code",
      "source": [
        "# pull out EGV events only\r\n",
        "egv_events = full_df[full_df['Event Type'] == \"EGV\"]\r\n",
        "egv_events = egv_events[['Timestamp (YYYY-MM-DDThh:mm:ss)', 'Source Device ID',\r\n",
        "       'Glucose Value (mg/dL)', 'Transmitter Time (Long Integer)', 'Transmitter ID']]\r\n",
        "\r\n",
        "egv_events = egv_events.drop_duplicates(keep='last', subset='Timestamp (YYYY-MM-DDThh:mm:ss)')\r\n",
        "egv_events.columns = ['timestamp_str', 'source_device', 'glucose', 'transmittertime', 'transmitter_id']"
      ],
      "outputs": [],
      "execution_count": 4,
      "metadata": {
        "jupyter": {
          "source_hidden": false,
          "outputs_hidden": false
        },
        "nteract": {
          "transient": {
            "deleting": false
          }
        },
        "gather": {
          "logged": 1668986094294
        }
      }
    },
    {
      "cell_type": "code",
      "source": [
        "# interpolate gaps (linear) to get clean 5 mins \r\n",
        "egv_events['timestamp'] = pd.to_datetime(egv_events['timestamp_str'], format='%Y-%m-%dT%H:%M:%S')\r\n",
        "egv_events['timestamp_diff'] = egv_events.timestamp.diff()"
      ],
      "outputs": [],
      "execution_count": 10,
      "metadata": {
        "jupyter": {
          "source_hidden": false,
          "outputs_hidden": false
        },
        "nteract": {
          "transient": {
            "deleting": false
          }
        },
        "gather": {
          "logged": 1668986267335
        }
      }
    },
    {
      "cell_type": "code",
      "source": [
        "gaps = egv_events[egv_events.timestamp_diff >= np.timedelta64(6, 'm')].index"
      ],
      "outputs": [
        {
          "output_type": "execute_result",
          "execution_count": 51,
          "data": {
            "text/plain": "            timestamp_str source_device glucose  transmittertime  \\\n1214  2022-11-12T02:14:33    Android G6     176         367574.0   \n2816  2022-11-17T17:44:53    Android G6     204         855374.0   \n\n     transmitter_id           timestamp  timestamp_diff  \n1214         8FELKW 2022-11-12 02:14:33 0 days 00:25:00  \n2816         8FELKW 2022-11-17 17:44:53 0 days 02:10:01  ",
            "text/html": "<div>\n<style scoped>\n    .dataframe tbody tr th:only-of-type {\n        vertical-align: middle;\n    }\n\n    .dataframe tbody tr th {\n        vertical-align: top;\n    }\n\n    .dataframe thead th {\n        text-align: right;\n    }\n</style>\n<table border=\"1\" class=\"dataframe\">\n  <thead>\n    <tr style=\"text-align: right;\">\n      <th></th>\n      <th>timestamp_str</th>\n      <th>source_device</th>\n      <th>glucose</th>\n      <th>transmittertime</th>\n      <th>transmitter_id</th>\n      <th>timestamp</th>\n      <th>timestamp_diff</th>\n    </tr>\n  </thead>\n  <tbody>\n    <tr>\n      <th>1214</th>\n      <td>2022-11-12T02:14:33</td>\n      <td>Android G6</td>\n      <td>176</td>\n      <td>367574.0</td>\n      <td>8FELKW</td>\n      <td>2022-11-12 02:14:33</td>\n      <td>0 days 00:25:00</td>\n    </tr>\n    <tr>\n      <th>2816</th>\n      <td>2022-11-17T17:44:53</td>\n      <td>Android G6</td>\n      <td>204</td>\n      <td>855374.0</td>\n      <td>8FELKW</td>\n      <td>2022-11-17 17:44:53</td>\n      <td>0 days 02:10:01</td>\n    </tr>\n  </tbody>\n</table>\n</div>"
          },
          "metadata": {}
        }
      ],
      "execution_count": 51,
      "metadata": {
        "jupyter": {
          "source_hidden": false,
          "outputs_hidden": false
        },
        "nteract": {
          "transient": {
            "deleting": false
          }
        },
        "gather": {
          "logged": 1668989735730
        }
      }
    },
    {
      "cell_type": "code",
      "source": [
        "new_time_slots = []\r\n",
        "\r\n",
        "for low, high in zip(gaps-1, gaps):\r\n",
        "    start_event = egv_events.loc[low]\r\n",
        "    end_event = egv_events.loc[high]\r\n",
        "    start = start_event.timestamp\r\n",
        "    end = end_event.timestamp\r\n",
        "    start_time = start\r\n",
        "    previous_start_time = start\r\n",
        "    transmitter_id = start_event['transmitter_id'] if start_event['transmitter_id'] == end_event['transmitter_id'] else \"Switch\"\r\n",
        "    while end - start_time >= np.timedelta64(5, 'm'):\r\n",
        "        start_time += np.timedelta64(5, 'm')\r\n",
        "        new_time_slots.append({\r\n",
        "            'timestamp_str': str(start_time), \r\n",
        "            'source_device': 'Interpolate',\r\n",
        "            'glucose': np.nan,\r\n",
        "            'trasmittertime': -1,\r\n",
        "            'transmitter_id': transmitter_id,\r\n",
        "            'timestamp': start_time,\r\n",
        "            'timestamp_diff': start_time - previous_start_time\r\n",
        "        })\r\n",
        "        previous_start_time = start_time\r\n"
      ],
      "outputs": [],
      "execution_count": 69,
      "metadata": {
        "jupyter": {
          "source_hidden": false,
          "outputs_hidden": false
        },
        "nteract": {
          "transient": {
            "deleting": false
          }
        },
        "gather": {
          "logged": 1668992188800
        }
      }
    },
    {
      "cell_type": "code",
      "source": [
        "# create basic rows here\r\n",
        "new_data = pd.DataFrame(new_time_slots)\r\n",
        "egv_events_with_interpolate = pd.concat([egv_events, new_data])\r\n",
        "egv_events_with_interpolate.sort_values(by='timestamp', inplace=True)\r\n",
        "egv_events_with_interpolate.set_index('timestamp').glucose.interpolate(method='cubic', inplace=True)\r\n",
        "egv_events_with_interpolate.reset_index()\r\n",
        "\r\n",
        "# assert all diffs < 6 mins\r\n",
        "assert egv_events_with_interpolate.timestamp.diff().max() < np.timedelta64(6, 'm')"
      ],
      "outputs": [],
      "execution_count": 73,
      "metadata": {
        "jupyter": {
          "source_hidden": false,
          "outputs_hidden": false
        },
        "nteract": {
          "transient": {
            "deleting": false
          }
        },
        "gather": {
          "logged": 1668992291222
        }
      }
    },
    {
      "cell_type": "code",
      "source": [
        "from azure.ai.ml.entities import Data\r\n",
        "from azure.ai.ml.constants import AssetTypes\r\n",
        "\r\n",
        "# Supported paths include:\r\n",
        "# local: './<path>'\r\n",
        "# blob:  'https://<account_name>.blob.core.windows.net/<container_name>/<path>'\r\n",
        "# ADLS gen2: 'abfss://<file_system>@<account_name>.dfs.core.windows.net/<path>/'\r\n",
        "# Datastore: 'azureml://datastores/<data_store_name>/paths/<path>'\r\n",
        "\r\n",
        "my_path = 'azureml://datastores/amitoosweet/paths/clarityClean/cleanGlucoseData.parquet'\r\n",
        "\r\n",
        "my_data = Data(\r\n",
        "    path=my_path,\r\n",
        "    type=AssetTypes.URI_FILE,\r\n",
        "    description=\"CleanedClarityData from clarityCleanup.ipynb\",\r\n",
        "    name=\"CleanedClarityData\",\r\n",
        "    version='1'\r\n",
        ")\r\n",
        "\r\n",
        "ml_client.data.create_or_update(my_data)\r\n",
        "\r\n",
        "output_path = '/clarityGlucoseClean/cleanData.parquet'\r\n",
        "output_uri = f'azureml://subscriptions/{subscription}/resourcegroups/{resource_group}/workspaces/{workspace}/datastores/{datastore_name}/paths/{output_path}'\r\n",
        "\r\n",
        "egv_events_with_interpolate.to_parquet(output_uri)"
      ],
      "outputs": [
        {
          "output_type": "error",
          "ename": "ExecutionError",
          "evalue": "\nError Code: ScriptExecution.StreamAccess.NotFound\nFailed Step: dcbce1e1-2f61-4ada-a2f2-ad9b51105a01\nError Message: ScriptExecutionException was caused by StreamAccessException.\n  StreamAccessException was caused by NotFoundException.\n    Found no resources for the input provided: 'https://amitoosweetstore.blob.core.windows.net/rawuploads/clarityGlucoseClean/cleanData.parquet'\n| session_id=b9b175ed-d49f-4dd9-bfce-e394699e3d94",
          "traceback": [
            "\u001b[0;31m---------------------------------------------------------------------------\u001b[0m",
            "\u001b[0;31mExecutionError\u001b[0m                            Traceback (most recent call last)",
            "Input \u001b[0;32mIn [79]\u001b[0m, in \u001b[0;36m<cell line: 4>\u001b[0;34m()\u001b[0m\n\u001b[1;32m      1\u001b[0m output_path \u001b[38;5;241m=\u001b[39m \u001b[38;5;124m'\u001b[39m\u001b[38;5;124m/clarityGlucoseClean/cleanData.parquet\u001b[39m\u001b[38;5;124m'\u001b[39m\n\u001b[1;32m      2\u001b[0m output_uri \u001b[38;5;241m=\u001b[39m \u001b[38;5;124mf\u001b[39m\u001b[38;5;124m'\u001b[39m\u001b[38;5;124mazureml://subscriptions/\u001b[39m\u001b[38;5;132;01m{\u001b[39;00msubscription\u001b[38;5;132;01m}\u001b[39;00m\u001b[38;5;124m/resourcegroups/\u001b[39m\u001b[38;5;132;01m{\u001b[39;00mresource_group\u001b[38;5;132;01m}\u001b[39;00m\u001b[38;5;124m/workspaces/\u001b[39m\u001b[38;5;132;01m{\u001b[39;00mworkspace\u001b[38;5;132;01m}\u001b[39;00m\u001b[38;5;124m/datastores/\u001b[39m\u001b[38;5;132;01m{\u001b[39;00mdatastore_name\u001b[38;5;132;01m}\u001b[39;00m\u001b[38;5;124m/paths/\u001b[39m\u001b[38;5;132;01m{\u001b[39;00moutput_path\u001b[38;5;132;01m}\u001b[39;00m\u001b[38;5;124m'\u001b[39m\n\u001b[0;32m----> 4\u001b[0m \u001b[43megv_events_with_interpolate\u001b[49m\u001b[38;5;241;43m.\u001b[39;49m\u001b[43mto_parquet\u001b[49m\u001b[43m(\u001b[49m\u001b[43moutput_uri\u001b[49m\u001b[43m)\u001b[49m\n",
            "File \u001b[0;32m/anaconda/envs/azureml_py38/lib/python3.8/site-packages/pandas/util/_decorators.py:199\u001b[0m, in \u001b[0;36mdeprecate_kwarg.<locals>._deprecate_kwarg.<locals>.wrapper\u001b[0;34m(*args, **kwargs)\u001b[0m\n\u001b[1;32m    197\u001b[0m     \u001b[38;5;28;01melse\u001b[39;00m:\n\u001b[1;32m    198\u001b[0m         kwargs[new_arg_name] \u001b[38;5;241m=\u001b[39m new_arg_value\n\u001b[0;32m--> 199\u001b[0m \u001b[38;5;28;01mreturn\u001b[39;00m \u001b[43mfunc\u001b[49m\u001b[43m(\u001b[49m\u001b[38;5;241;43m*\u001b[39;49m\u001b[43margs\u001b[49m\u001b[43m,\u001b[49m\u001b[43m \u001b[49m\u001b[38;5;241;43m*\u001b[39;49m\u001b[38;5;241;43m*\u001b[39;49m\u001b[43mkwargs\u001b[49m\u001b[43m)\u001b[49m\n",
            "File \u001b[0;32m/anaconda/envs/azureml_py38/lib/python3.8/site-packages/pandas/core/frame.py:2365\u001b[0m, in \u001b[0;36mDataFrame.to_parquet\u001b[0;34m(self, path, engine, compression, index, partition_cols, **kwargs)\u001b[0m\n\u001b[1;32m   2280\u001b[0m \u001b[38;5;124;03m\"\"\"\u001b[39;00m\n\u001b[1;32m   2281\u001b[0m \u001b[38;5;124;03mWrite a DataFrame to the binary parquet format.\u001b[39;00m\n\u001b[1;32m   2282\u001b[0m \n\u001b[0;32m   (...)\u001b[0m\n\u001b[1;32m   2361\u001b[0m \u001b[38;5;124;03m>>> content = f.read()\u001b[39;00m\n\u001b[1;32m   2362\u001b[0m \u001b[38;5;124;03m\"\"\"\u001b[39;00m\n\u001b[1;32m   2363\u001b[0m \u001b[38;5;28;01mfrom\u001b[39;00m \u001b[38;5;21;01mpandas\u001b[39;00m\u001b[38;5;21;01m.\u001b[39;00m\u001b[38;5;21;01mio\u001b[39;00m\u001b[38;5;21;01m.\u001b[39;00m\u001b[38;5;21;01mparquet\u001b[39;00m \u001b[38;5;28;01mimport\u001b[39;00m to_parquet\n\u001b[0;32m-> 2365\u001b[0m \u001b[43mto_parquet\u001b[49m\u001b[43m(\u001b[49m\n\u001b[1;32m   2366\u001b[0m \u001b[43m    \u001b[49m\u001b[38;5;28;43mself\u001b[39;49m\u001b[43m,\u001b[49m\n\u001b[1;32m   2367\u001b[0m \u001b[43m    \u001b[49m\u001b[43mpath\u001b[49m\u001b[43m,\u001b[49m\n\u001b[1;32m   2368\u001b[0m \u001b[43m    \u001b[49m\u001b[43mengine\u001b[49m\u001b[43m,\u001b[49m\n\u001b[1;32m   2369\u001b[0m \u001b[43m    \u001b[49m\u001b[43mcompression\u001b[49m\u001b[38;5;241;43m=\u001b[39;49m\u001b[43mcompression\u001b[49m\u001b[43m,\u001b[49m\n\u001b[1;32m   2370\u001b[0m \u001b[43m    \u001b[49m\u001b[43mindex\u001b[49m\u001b[38;5;241;43m=\u001b[39;49m\u001b[43mindex\u001b[49m\u001b[43m,\u001b[49m\n\u001b[1;32m   2371\u001b[0m \u001b[43m    \u001b[49m\u001b[43mpartition_cols\u001b[49m\u001b[38;5;241;43m=\u001b[39;49m\u001b[43mpartition_cols\u001b[49m\u001b[43m,\u001b[49m\n\u001b[1;32m   2372\u001b[0m \u001b[43m    \u001b[49m\u001b[38;5;241;43m*\u001b[39;49m\u001b[38;5;241;43m*\u001b[39;49m\u001b[43mkwargs\u001b[49m\u001b[43m,\u001b[49m\n\u001b[1;32m   2373\u001b[0m \u001b[43m\u001b[49m\u001b[43m)\u001b[49m\n",
            "File \u001b[0;32m/anaconda/envs/azureml_py38/lib/python3.8/site-packages/pandas/io/parquet.py:270\u001b[0m, in \u001b[0;36mto_parquet\u001b[0;34m(df, path, engine, compression, index, partition_cols, **kwargs)\u001b[0m\n\u001b[1;32m    268\u001b[0m     partition_cols \u001b[38;5;241m=\u001b[39m [partition_cols]\n\u001b[1;32m    269\u001b[0m impl \u001b[38;5;241m=\u001b[39m get_engine(engine)\n\u001b[0;32m--> 270\u001b[0m \u001b[38;5;28;01mreturn\u001b[39;00m \u001b[43mimpl\u001b[49m\u001b[38;5;241;43m.\u001b[39;49m\u001b[43mwrite\u001b[49m\u001b[43m(\u001b[49m\n\u001b[1;32m    271\u001b[0m \u001b[43m    \u001b[49m\u001b[43mdf\u001b[49m\u001b[43m,\u001b[49m\n\u001b[1;32m    272\u001b[0m \u001b[43m    \u001b[49m\u001b[43mpath\u001b[49m\u001b[43m,\u001b[49m\n\u001b[1;32m    273\u001b[0m \u001b[43m    \u001b[49m\u001b[43mcompression\u001b[49m\u001b[38;5;241;43m=\u001b[39;49m\u001b[43mcompression\u001b[49m\u001b[43m,\u001b[49m\n\u001b[1;32m    274\u001b[0m \u001b[43m    \u001b[49m\u001b[43mindex\u001b[49m\u001b[38;5;241;43m=\u001b[39;49m\u001b[43mindex\u001b[49m\u001b[43m,\u001b[49m\n\u001b[1;32m    275\u001b[0m \u001b[43m    \u001b[49m\u001b[43mpartition_cols\u001b[49m\u001b[38;5;241;43m=\u001b[39;49m\u001b[43mpartition_cols\u001b[49m\u001b[43m,\u001b[49m\n\u001b[1;32m    276\u001b[0m \u001b[43m    \u001b[49m\u001b[38;5;241;43m*\u001b[39;49m\u001b[38;5;241;43m*\u001b[39;49m\u001b[43mkwargs\u001b[49m\u001b[43m,\u001b[49m\n\u001b[1;32m    277\u001b[0m \u001b[43m\u001b[49m\u001b[43m)\u001b[49m\n",
            "File \u001b[0;32m/anaconda/envs/azureml_py38/lib/python3.8/site-packages/pandas/io/parquet.py:108\u001b[0m, in \u001b[0;36mPyArrowImpl.write\u001b[0;34m(self, df, path, compression, index, partition_cols, **kwargs)\u001b[0m\n\u001b[1;32m    105\u001b[0m     import_optional_dependency(\u001b[38;5;124m\"\u001b[39m\u001b[38;5;124mfsspec\u001b[39m\u001b[38;5;124m\"\u001b[39m)\n\u001b[1;32m    106\u001b[0m     \u001b[38;5;28;01mimport\u001b[39;00m \u001b[38;5;21;01mfsspec\u001b[39;00m\u001b[38;5;21;01m.\u001b[39;00m\u001b[38;5;21;01mcore\u001b[39;00m\n\u001b[0;32m--> 108\u001b[0m     fs, path \u001b[38;5;241m=\u001b[39m \u001b[43mfsspec\u001b[49m\u001b[38;5;241;43m.\u001b[39;49m\u001b[43mcore\u001b[49m\u001b[38;5;241;43m.\u001b[39;49m\u001b[43murl_to_fs\u001b[49m\u001b[43m(\u001b[49m\u001b[43mpath\u001b[49m\u001b[43m)\u001b[49m\n\u001b[1;32m    109\u001b[0m     kwargs[\u001b[38;5;124m\"\u001b[39m\u001b[38;5;124mfilesystem\u001b[39m\u001b[38;5;124m\"\u001b[39m] \u001b[38;5;241m=\u001b[39m fs\n\u001b[1;32m    110\u001b[0m \u001b[38;5;28;01melse\u001b[39;00m:\n",
            "File \u001b[0;32m/anaconda/envs/azureml_py38/lib/python3.8/site-packages/fsspec/core.py:407\u001b[0m, in \u001b[0;36murl_to_fs\u001b[0;34m(url, **kwargs)\u001b[0m\n\u001b[1;32m    405\u001b[0m     options \u001b[38;5;241m=\u001b[39m \u001b[38;5;28mcls\u001b[39m\u001b[38;5;241m.\u001b[39m_get_kwargs_from_urls(url)\n\u001b[1;32m    406\u001b[0m     update_storage_options(options, kwargs)\n\u001b[0;32m--> 407\u001b[0m     fs \u001b[38;5;241m=\u001b[39m \u001b[38;5;28;43mcls\u001b[39;49m\u001b[43m(\u001b[49m\u001b[38;5;241;43m*\u001b[39;49m\u001b[38;5;241;43m*\u001b[39;49m\u001b[43moptions\u001b[49m\u001b[43m)\u001b[49m\n\u001b[1;32m    408\u001b[0m     urlpath \u001b[38;5;241m=\u001b[39m fs\u001b[38;5;241m.\u001b[39m_strip_protocol(url)\n\u001b[1;32m    409\u001b[0m \u001b[38;5;28;01mreturn\u001b[39;00m fs, urlpath\n",
            "File \u001b[0;32m/anaconda/envs/azureml_py38/lib/python3.8/site-packages/fsspec/spec.py:68\u001b[0m, in \u001b[0;36m_Cached.__call__\u001b[0;34m(cls, *args, **kwargs)\u001b[0m\n\u001b[1;32m     66\u001b[0m     \u001b[38;5;28;01mreturn\u001b[39;00m \u001b[38;5;28mcls\u001b[39m\u001b[38;5;241m.\u001b[39m_cache[token]\n\u001b[1;32m     67\u001b[0m \u001b[38;5;28;01melse\u001b[39;00m:\n\u001b[0;32m---> 68\u001b[0m     obj \u001b[38;5;241m=\u001b[39m \u001b[38;5;28;43msuper\u001b[39;49m\u001b[43m(\u001b[49m\u001b[43m)\u001b[49m\u001b[38;5;241;43m.\u001b[39;49m\u001b[38;5;21;43m__call__\u001b[39;49m\u001b[43m(\u001b[49m\u001b[38;5;241;43m*\u001b[39;49m\u001b[43margs\u001b[49m\u001b[43m,\u001b[49m\u001b[43m \u001b[49m\u001b[38;5;241;43m*\u001b[39;49m\u001b[38;5;241;43m*\u001b[39;49m\u001b[43mkwargs\u001b[49m\u001b[43m)\u001b[49m\n\u001b[1;32m     69\u001b[0m     \u001b[38;5;66;03m# Setting _fs_token here causes some static linters to complain.\u001b[39;00m\n\u001b[1;32m     70\u001b[0m     obj\u001b[38;5;241m.\u001b[39m_fs_token_ \u001b[38;5;241m=\u001b[39m token\n",
            "File \u001b[0;32m/anaconda/envs/azureml_py38/lib/python3.8/site-packages/azureml/dataprep/api/_loggerfactory.py:219\u001b[0m, in \u001b[0;36mtrack.<locals>.monitor.<locals>.wrapper\u001b[0;34m(*args, **kwargs)\u001b[0m\n\u001b[1;32m    217\u001b[0m \u001b[38;5;28;01mwith\u001b[39;00m _LoggerFactory\u001b[38;5;241m.\u001b[39mtrack_activity(logger, func\u001b[38;5;241m.\u001b[39m\u001b[38;5;18m__name__\u001b[39m, DEFAULT_ACTIVITY_TYPE, custom_dimensions) \u001b[38;5;28;01mas\u001b[39;00m activityLogger:\n\u001b[1;32m    218\u001b[0m     \u001b[38;5;28;01mtry\u001b[39;00m:\n\u001b[0;32m--> 219\u001b[0m         \u001b[38;5;28;01mreturn\u001b[39;00m \u001b[43mfunc\u001b[49m\u001b[43m(\u001b[49m\u001b[38;5;241;43m*\u001b[39;49m\u001b[43margs\u001b[49m\u001b[43m,\u001b[49m\u001b[43m \u001b[49m\u001b[38;5;241;43m*\u001b[39;49m\u001b[38;5;241;43m*\u001b[39;49m\u001b[43mkwargs\u001b[49m\u001b[43m)\u001b[49m\n\u001b[1;32m    220\u001b[0m     \u001b[38;5;28;01mexcept\u001b[39;00m \u001b[38;5;167;01mException\u001b[39;00m \u001b[38;5;28;01mas\u001b[39;00m e:\n\u001b[1;32m    221\u001b[0m         \u001b[38;5;28;01mif\u001b[39;00m \u001b[38;5;28mhasattr\u001b[39m(activityLogger, ACTIVITY_INFO_KEY) \u001b[38;5;129;01mand\u001b[39;00m \u001b[38;5;28mhasattr\u001b[39m(e, ERROR_CODE_KEY):\n",
            "File \u001b[0;32m/anaconda/envs/azureml_py38/lib/python3.8/site-packages/azureml/fsspec/spec.py:117\u001b[0m, in \u001b[0;36mAzureMachineLearningFileSystem.__init__\u001b[0;34m(self, uri, **kwargs)\u001b[0m\n\u001b[1;32m    115\u001b[0m stream_properties_expression \u001b[38;5;241m=\u001b[39m get_stream_properties(dataflow[\u001b[38;5;124m'\u001b[39m\u001b[38;5;124mPath\u001b[39m\u001b[38;5;124m'\u001b[39m])\n\u001b[1;32m    116\u001b[0m dataflow \u001b[38;5;241m=\u001b[39m dataflow\u001b[38;5;241m.\u001b[39m_add_columns_from_record(stream_properties_expression)\n\u001b[0;32m--> 117\u001b[0m records \u001b[38;5;241m=\u001b[39m \u001b[43mdataflow\u001b[49m\u001b[38;5;241;43m.\u001b[39;49m\u001b[43m_to_pyrecords\u001b[49m\u001b[43m(\u001b[49m\u001b[43m)\u001b[49m\n\u001b[1;32m    118\u001b[0m \u001b[38;5;28;01mif\u001b[39;00m \u001b[38;5;28mlen\u001b[39m(records) \u001b[38;5;241m<\u001b[39m \u001b[38;5;241m1\u001b[39m:\n\u001b[1;32m    119\u001b[0m     \u001b[38;5;28;01mraise\u001b[39;00m \u001b[38;5;167;01mValueError\u001b[39;00m(\u001b[38;5;124mf\u001b[39m\u001b[38;5;124m'\u001b[39m\u001b[38;5;124mNo files found for \u001b[39m\u001b[38;5;132;01m{\u001b[39;00muri\u001b[38;5;132;01m}\u001b[39;00m\u001b[38;5;124m'\u001b[39m)\n",
            "File \u001b[0;32m/anaconda/envs/azureml_py38/lib/python3.8/site-packages/azureml/dataprep/api/dataflow.py:776\u001b[0m, in \u001b[0;36mDataflow._to_pyrecords\u001b[0;34m(self)\u001b[0m\n\u001b[1;32m    774\u001b[0m     force_clex \u001b[38;5;241m=\u001b[39m os\u001b[38;5;241m.\u001b[39menviron[\u001b[38;5;124m'\u001b[39m\u001b[38;5;124m_TEST_USE_CLEX\u001b[39m\u001b[38;5;124m'\u001b[39m] \u001b[38;5;241m==\u001b[39m \u001b[38;5;124m'\u001b[39m\u001b[38;5;124mTrue\u001b[39m\u001b[38;5;124m'\u001b[39m\n\u001b[1;32m    775\u001b[0m     force_rslex \u001b[38;5;241m=\u001b[39m os\u001b[38;5;241m.\u001b[39menviron[\u001b[38;5;124m'\u001b[39m\u001b[38;5;124m_TEST_USE_CLEX\u001b[39m\u001b[38;5;124m'\u001b[39m] \u001b[38;5;241m==\u001b[39m \u001b[38;5;124m'\u001b[39m\u001b[38;5;124mFalse\u001b[39m\u001b[38;5;124m'\u001b[39m\n\u001b[0;32m--> 776\u001b[0m intermediate_files \u001b[38;5;241m=\u001b[39m \u001b[43m_write_preppy_with_fallback\u001b[49m\u001b[43m(\u001b[49m\u001b[38;5;124;43m'\u001b[39;49m\u001b[38;5;124;43mDataflow.to_pyrecords\u001b[39;49m\u001b[38;5;124;43m'\u001b[39;49m\u001b[43m,\u001b[49m\u001b[43m \u001b[49m\u001b[38;5;28;43mself\u001b[39;49m\u001b[43m,\u001b[49m\u001b[43m \u001b[49m\u001b[43mspan_context\u001b[49m\u001b[38;5;241;43m=\u001b[39;49m\u001b[43mto_dprep_span_context\u001b[49m\u001b[43m(\u001b[49m\u001b[43mspan\u001b[49m\u001b[38;5;241;43m.\u001b[39;49m\u001b[43mget_context\u001b[49m\u001b[43m(\u001b[49m\u001b[43m)\u001b[49m\u001b[43m)\u001b[49m\u001b[43m,\u001b[49m\u001b[43m \u001b[49m\u001b[43mforce_rslex\u001b[49m\u001b[38;5;241;43m=\u001b[39;49m\u001b[43mforce_rslex\u001b[49m\u001b[43m,\u001b[49m\u001b[43m \u001b[49m\u001b[43mforce_clex\u001b[49m\u001b[38;5;241;43m=\u001b[39;49m\u001b[43mforce_clex\u001b[49m\u001b[43m)\u001b[49m\n\u001b[1;32m    777\u001b[0m \u001b[38;5;28;01mif\u001b[39;00m \u001b[38;5;28mlen\u001b[39m(intermediate_files) \u001b[38;5;241m==\u001b[39m \u001b[38;5;241m0\u001b[39m:\n\u001b[1;32m    778\u001b[0m     \u001b[38;5;28;01mreturn\u001b[39;00m []\n",
            "File \u001b[0;32m/anaconda/envs/azureml_py38/lib/python3.8/site-packages/azureml/dataprep/api/_dataframereader.py:205\u001b[0m, in \u001b[0;36m_write_preppy_with_fallback\u001b[0;34m(activity, dataflow, force_clex, span_context, force_rslex)\u001b[0m\n\u001b[1;32m    203\u001b[0m \u001b[38;5;28;01mexcept\u001b[39;00m \u001b[38;5;167;01mException\u001b[39;00m \u001b[38;5;28;01mas\u001b[39;00m e:\n\u001b[1;32m    204\u001b[0m     cleanup()\n\u001b[0;32m--> 205\u001b[0m     \u001b[38;5;28;01mraise\u001b[39;00m e\n\u001b[1;32m    207\u001b[0m \u001b[38;5;28;01mif\u001b[39;00m \u001b[38;5;129;01mnot\u001b[39;00m (intermediate_path \u001b[38;5;241m/\u001b[39m \u001b[38;5;124m'\u001b[39m\u001b[38;5;124m_SUCCESS\u001b[39m\u001b[38;5;124m'\u001b[39m)\u001b[38;5;241m.\u001b[39mexists():\n\u001b[1;32m    208\u001b[0m     error \u001b[38;5;241m=\u001b[39m \u001b[38;5;124m'\u001b[39m\u001b[38;5;124mMissing _SUCCESS sentinel in preppy folder.\u001b[39m\u001b[38;5;124m'\u001b[39m\n",
            "File \u001b[0;32m/anaconda/envs/azureml_py38/lib/python3.8/site-packages/azureml/dataprep/api/_dataframereader.py:202\u001b[0m, in \u001b[0;36m_write_preppy_with_fallback\u001b[0;34m(activity, dataflow, force_clex, span_context, force_rslex)\u001b[0m\n\u001b[1;32m    199\u001b[0m         \u001b[38;5;28;01mpass\u001b[39;00m  \u001b[38;5;66;03m# ignore exception\u001b[39;00m\n\u001b[1;32m    201\u001b[0m \u001b[38;5;28;01mtry\u001b[39;00m:\n\u001b[0;32m--> 202\u001b[0m     \u001b[43m_execute_with_fallback\u001b[49m\u001b[43m(\u001b[49m\u001b[43mactivity\u001b[49m\u001b[43m,\u001b[49m\u001b[43m \u001b[49m\u001b[43mdataflow_to_execute\u001b[49m\u001b[43m,\u001b[49m\u001b[43m \u001b[49m\u001b[43mforce_clex\u001b[49m\u001b[38;5;241;43m=\u001b[39;49m\u001b[43mforce_clex\u001b[49m\u001b[43m,\u001b[49m\u001b[43m \u001b[49m\u001b[43mspan_context\u001b[49m\u001b[38;5;241;43m=\u001b[39;49m\u001b[43mspan_context\u001b[49m\u001b[43m,\u001b[49m\u001b[43m \u001b[49m\u001b[43mforce_rslex\u001b[49m\u001b[38;5;241;43m=\u001b[39;49m\u001b[43mforce_rslex\u001b[49m\u001b[43m,\u001b[49m\u001b[43m \u001b[49m\u001b[43mcleanup\u001b[49m\u001b[38;5;241;43m=\u001b[39;49m\u001b[43mcleanup\u001b[49m\u001b[43m)\u001b[49m\n\u001b[1;32m    203\u001b[0m \u001b[38;5;28;01mexcept\u001b[39;00m \u001b[38;5;167;01mException\u001b[39;00m \u001b[38;5;28;01mas\u001b[39;00m e:\n\u001b[1;32m    204\u001b[0m     cleanup()\n",
            "File \u001b[0;32m/anaconda/envs/azureml_py38/lib/python3.8/site-packages/azureml/dataprep/api/_dataframereader.py:262\u001b[0m, in \u001b[0;36m_execute_with_fallback\u001b[0;34m(activity, dataflow_to_execute, force_clex, span_context, force_rslex, cleanup)\u001b[0m\n\u001b[1;32m    260\u001b[0m cleanup() \u001b[38;5;28;01mif\u001b[39;00m cleanup \u001b[38;5;129;01mis\u001b[39;00m \u001b[38;5;129;01mnot\u001b[39;00m \u001b[38;5;28;01mNone\u001b[39;00m \u001b[38;5;28;01melse\u001b[39;00m \u001b[38;5;28;01mNone\u001b[39;00m\n\u001b[1;32m    261\u001b[0m \u001b[38;5;28;01mtry\u001b[39;00m:\n\u001b[0;32m--> 262\u001b[0m     \u001b[43mclex_execute\u001b[49m\u001b[43m(\u001b[49m\u001b[43m)\u001b[49m\n\u001b[1;32m    263\u001b[0m \u001b[38;5;28;01mexcept\u001b[39;00m \u001b[38;5;167;01mException\u001b[39;00m \u001b[38;5;28;01mas\u001b[39;00m e:\n\u001b[1;32m    264\u001b[0m     clex_error \u001b[38;5;241m=\u001b[39m e\n",
            "File \u001b[0;32m/anaconda/envs/azureml_py38/lib/python3.8/site-packages/azureml/dataprep/api/_dataframereader.py:234\u001b[0m, in \u001b[0;36m_execute_with_fallback.<locals>.clex_execute\u001b[0;34m()\u001b[0m\n\u001b[1;32m    232\u001b[0m \u001b[38;5;28;01mfrom\u001b[39;00m \u001b[38;5;21;01m.\u001b[39;00m\u001b[38;5;21;01mdataflow\u001b[39;00m \u001b[38;5;28;01mimport\u001b[39;00m Dataflow\n\u001b[1;32m    233\u001b[0m activity_data \u001b[38;5;241m=\u001b[39m Dataflow\u001b[38;5;241m.\u001b[39m_dataflow_to_anonymous_activity_data(dataflow_to_execute)\n\u001b[0;32m--> 234\u001b[0m \u001b[43mdataflow_to_execute\u001b[49m\u001b[38;5;241;43m.\u001b[39;49m\u001b[43m_engine_api\u001b[49m\u001b[38;5;241;43m.\u001b[39;49m\u001b[43mexecute_anonymous_activity\u001b[49m\u001b[43m(\u001b[49m\n\u001b[1;32m    235\u001b[0m \u001b[43m    \u001b[49m\u001b[43mExecuteAnonymousActivityMessageArguments\u001b[49m\u001b[43m(\u001b[49m\n\u001b[1;32m    236\u001b[0m \u001b[43m        \u001b[49m\u001b[43manonymous_activity\u001b[49m\u001b[38;5;241;43m=\u001b[39;49m\u001b[43mactivity_data\u001b[49m\u001b[43m,\u001b[49m\n\u001b[1;32m    237\u001b[0m \u001b[43m        \u001b[49m\u001b[43mspan_context\u001b[49m\u001b[38;5;241;43m=\u001b[39;49m\u001b[43mspan_context\u001b[49m\n\u001b[1;32m    238\u001b[0m \u001b[43m    \u001b[49m\u001b[43m)\u001b[49m\n\u001b[1;32m    239\u001b[0m \u001b[43m\u001b[49m\u001b[43m)\u001b[49m\n",
            "File \u001b[0;32m/anaconda/envs/azureml_py38/lib/python3.8/site-packages/azureml/dataprep/api/_aml_helper.py:38\u001b[0m, in \u001b[0;36mupdate_aml_env_vars.<locals>.decorator.<locals>.wrapper\u001b[0;34m(op_code, message, cancellation_token)\u001b[0m\n\u001b[1;32m     36\u001b[0m \u001b[38;5;28;01mif\u001b[39;00m \u001b[38;5;28mlen\u001b[39m(changed) \u001b[38;5;241m>\u001b[39m \u001b[38;5;241m0\u001b[39m:\n\u001b[1;32m     37\u001b[0m     engine_api_func()\u001b[38;5;241m.\u001b[39mupdate_environment_variable(changed)\n\u001b[0;32m---> 38\u001b[0m \u001b[38;5;28;01mreturn\u001b[39;00m \u001b[43msend_message_func\u001b[49m\u001b[43m(\u001b[49m\u001b[43mop_code\u001b[49m\u001b[43m,\u001b[49m\u001b[43m \u001b[49m\u001b[43mmessage\u001b[49m\u001b[43m,\u001b[49m\u001b[43m \u001b[49m\u001b[43mcancellation_token\u001b[49m\u001b[43m)\u001b[49m\n",
            "File \u001b[0;32m/anaconda/envs/azureml_py38/lib/python3.8/site-packages/azureml/dataprep/api/engineapi/api.py:159\u001b[0m, in \u001b[0;36mEngineAPI.execute_anonymous_activity\u001b[0;34m(self, message_args, cancellation_token)\u001b[0m\n\u001b[1;32m    157\u001b[0m \u001b[38;5;129m@update_aml_env_vars\u001b[39m(get_engine_api)\n\u001b[1;32m    158\u001b[0m \u001b[38;5;28;01mdef\u001b[39;00m \u001b[38;5;21mexecute_anonymous_activity\u001b[39m(\u001b[38;5;28mself\u001b[39m, message_args: typedefinitions\u001b[38;5;241m.\u001b[39mExecuteAnonymousActivityMessageArguments, cancellation_token: CancellationToken \u001b[38;5;241m=\u001b[39m \u001b[38;5;28;01mNone\u001b[39;00m) \u001b[38;5;241m-\u001b[39m\u001b[38;5;241m>\u001b[39m \u001b[38;5;28;01mNone\u001b[39;00m:\n\u001b[0;32m--> 159\u001b[0m     response \u001b[38;5;241m=\u001b[39m \u001b[38;5;28;43mself\u001b[39;49m\u001b[38;5;241;43m.\u001b[39;49m\u001b[43m_message_channel\u001b[49m\u001b[38;5;241;43m.\u001b[39;49m\u001b[43msend_message\u001b[49m\u001b[43m(\u001b[49m\u001b[38;5;124;43m'\u001b[39;49m\u001b[38;5;124;43mEngine.ExecuteActivity\u001b[39;49m\u001b[38;5;124;43m'\u001b[39;49m\u001b[43m,\u001b[49m\u001b[43m \u001b[49m\u001b[43mmessage_args\u001b[49m\u001b[43m,\u001b[49m\u001b[43m \u001b[49m\u001b[43mcancellation_token\u001b[49m\u001b[43m)\u001b[49m\n\u001b[1;32m    160\u001b[0m     \u001b[38;5;28;01mreturn\u001b[39;00m response\n",
            "File \u001b[0;32m/anaconda/envs/azureml_py38/lib/python3.8/site-packages/azureml/dataprep/api/engineapi/engine.py:291\u001b[0m, in \u001b[0;36mMultiThreadMessageChannel.send_message\u001b[0;34m(self, op_code, message, cancellation_token)\u001b[0m\n\u001b[1;32m    289\u001b[0m \u001b[38;5;28;01mif\u001b[39;00m \u001b[38;5;124m'\u001b[39m\u001b[38;5;124merror\u001b[39m\u001b[38;5;124m'\u001b[39m \u001b[38;5;129;01min\u001b[39;00m response:\n\u001b[1;32m    290\u001b[0m     cancel_on_error()\n\u001b[0;32m--> 291\u001b[0m     \u001b[43mraise_engine_error\u001b[49m\u001b[43m(\u001b[49m\u001b[43mresponse\u001b[49m\u001b[43m[\u001b[49m\u001b[38;5;124;43m'\u001b[39;49m\u001b[38;5;124;43merror\u001b[39;49m\u001b[38;5;124;43m'\u001b[39;49m\u001b[43m]\u001b[49m\u001b[43m)\u001b[49m\n\u001b[1;32m    292\u001b[0m \u001b[38;5;28;01melse\u001b[39;00m:\n\u001b[1;32m    293\u001b[0m     \u001b[38;5;28;01mreturn\u001b[39;00m response[\u001b[38;5;124m'\u001b[39m\u001b[38;5;124mresult\u001b[39m\u001b[38;5;124m'\u001b[39m]\n",
            "File \u001b[0;32m/anaconda/envs/azureml_py38/lib/python3.8/site-packages/azureml/dataprep/api/errorhandlers.py:10\u001b[0m, in \u001b[0;36mraise_engine_error\u001b[0;34m(error_response)\u001b[0m\n\u001b[1;32m      8\u001b[0m error_code \u001b[38;5;241m=\u001b[39m error_response[\u001b[38;5;124m'\u001b[39m\u001b[38;5;124merrorCode\u001b[39m\u001b[38;5;124m'\u001b[39m]\n\u001b[1;32m      9\u001b[0m \u001b[38;5;28;01mif\u001b[39;00m \u001b[38;5;124m'\u001b[39m\u001b[38;5;124mScriptExecution\u001b[39m\u001b[38;5;124m'\u001b[39m \u001b[38;5;129;01min\u001b[39;00m error_code:\n\u001b[0;32m---> 10\u001b[0m     \u001b[38;5;28;01mraise\u001b[39;00m ExecutionError(error_response)\n\u001b[1;32m     11\u001b[0m \u001b[38;5;28;01mif\u001b[39;00m \u001b[38;5;124m'\u001b[39m\u001b[38;5;124mValidation\u001b[39m\u001b[38;5;124m'\u001b[39m \u001b[38;5;129;01min\u001b[39;00m error_code:\n\u001b[1;32m     12\u001b[0m     \u001b[38;5;28;01mraise\u001b[39;00m ValidationError(error_response)\n",
            "\u001b[0;31mExecutionError\u001b[0m: \nError Code: ScriptExecution.StreamAccess.NotFound\nFailed Step: dcbce1e1-2f61-4ada-a2f2-ad9b51105a01\nError Message: ScriptExecutionException was caused by StreamAccessException.\n  StreamAccessException was caused by NotFoundException.\n    Found no resources for the input provided: 'https://amitoosweetstore.blob.core.windows.net/rawuploads/clarityGlucoseClean/cleanData.parquet'\n| session_id=b9b175ed-d49f-4dd9-bfce-e394699e3d94"
          ]
        }
      ],
      "execution_count": 79,
      "metadata": {
        "jupyter": {
          "source_hidden": false,
          "outputs_hidden": false
        },
        "nteract": {
          "transient": {
            "deleting": false
          }
        },
        "gather": {
          "logged": 1668992861333
        }
      }
    },
    {
      "cell_type": "code",
      "source": [],
      "outputs": [],
      "execution_count": null,
      "metadata": {
        "jupyter": {
          "source_hidden": false,
          "outputs_hidden": false
        },
        "nteract": {
          "transient": {
            "deleting": false
          }
        }
      }
    }
  ],
  "metadata": {
    "kernelspec": {
      "name": "python38-azureml",
      "language": "python",
      "display_name": "Python 3.8 - AzureML"
    },
    "language_info": {
      "name": "python",
      "version": "3.8.5",
      "mimetype": "text/x-python",
      "codemirror_mode": {
        "name": "ipython",
        "version": 3
      },
      "pygments_lexer": "ipython3",
      "nbconvert_exporter": "python",
      "file_extension": ".py"
    },
    "kernel_info": {
      "name": "python38-azureml"
    },
    "microsoft": {
      "host": {
        "AzureML": {
          "notebookHasBeenCompleted": true
        }
      }
    },
    "nteract": {
      "version": "nteract-front-end@1.0.0"
    }
  },
  "nbformat": 4,
  "nbformat_minor": 2
}