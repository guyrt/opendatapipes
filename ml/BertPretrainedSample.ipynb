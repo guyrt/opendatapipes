{
 "cells": [
  {
   "cell_type": "code",
   "execution_count": 1,
   "metadata": {},
   "outputs": [],
   "source": [
    "import torch\n",
    "import pandas as pd\n",
    "from transformers import BertTokenizerFast, BertForTokenClassification\n",
    "\n",
    "from tqdm.notebook import tqdm\n",
    "import random"
   ]
  },
  {
   "cell_type": "code",
   "execution_count": 68,
   "metadata": {},
   "outputs": [],
   "source": [
    "class DataSequence(torch.utils.data.Dataset):\n",
    "\n",
    "    def __init__(self, lines, labels, labels_to_ids):\n",
    "        tokenizer = BertTokenizerFast.from_pretrained('bert-base-uncased')\n",
    "        self.texts = [tokenizer(line, padding='max_length', max_length=25, truncation=True, return_tensors=\"pt\", is_split_into_words=True) for line in lines]\n",
    "        self.labels = [create_label_array(self.texts[j].word_ids(), labels[j], labels_to_ids) for j in range(len(lines))]    \n",
    "\n",
    "    def __len__(self):\n",
    "\n",
    "        return len(self.labels)\n",
    "\n",
    "    def __getitem__(self, idx):\n",
    "\n",
    "        batch_data = self.texts[idx]\n",
    "        batch_labels = torch.LongTensor(self.labels[idx])\n",
    "\n",
    "        return {\n",
    "            'input_ids': batch_data['input_ids'].flatten(),\n",
    "            'attention_mask': batch_data['attention_mask'].flatten(),\n",
    "            'labels': batch_labels\n",
    "        }\n",
    "    \n",
    "    \n",
    "def clean_line(line, unique_labels):\n",
    "    line = line.strip().lower()\n",
    "    line_data = [i.split('/') for i in line.split(\"\\t\")[2].split(' ') if 'fsep' not in i]\n",
    "    line_data = [list(i) for i in zip(*line_data)]\n",
    "    unique_labels.update(line_data[1])\n",
    "    \n",
    "    return line_data\n",
    "\n",
    "def create_label_array(word_ids, original_labels, labels_to_ids):\n",
    "    try:\n",
    "        t = [original_labels[i] if i is not None else -100 for i in word_ids]\n",
    "        return [labels_to_ids[tt] if tt in labels_to_ids else tt for tt in t]\n",
    "    except IndexError:\n",
    "        print(f\"Error for index {idx}\")\n",
    "        raise\n",
    "        \n",
    "\n",
    "def get_data_sequences(fh, num_lines, train_percent, seed=0):\n",
    "    random.seed(seed)\n",
    "    unique_labels = set()\n",
    "    \n",
    "    train_lines = []\n",
    "    train_labels = []\n",
    "    test_lines = []\n",
    "    test_labels = []\n",
    "    for i in range(num_lines):\n",
    "        clean_lines, clean_labels = clean_line(fh.readline(), unique_labels)\n",
    "        if random.random() < train_percent:\n",
    "            target_lines = train_lines\n",
    "            target_labels = train_labels\n",
    "        else:\n",
    "            target_lines = test_lines\n",
    "            target_labels = test_labels\n",
    "            \n",
    "        target_lines.append(clean_lines)\n",
    "        target_labels.append(clean_labels)\n",
    "\n",
    "        \n",
    "    labels_to_ids = {k: v for v, k in enumerate(sorted(unique_labels))}\n",
    "    ids_to_labels = {v: k for v, k in enumerate(sorted(unique_labels))}\n",
    "\n",
    "    return len(unique_labels), labels_to_ids, DataSequence(train_lines, train_labels, labels_to_ids), DataSequence(test_lines, test_labels, labels_to_ids)"
   ]
  },
  {
   "cell_type": "code",
   "execution_count": 69,
   "metadata": {},
   "outputs": [],
   "source": [
    "fh = open(\"data/uk_openaddresses_formatted_addresses_tagged.random.tsv\", \"r\")\n",
    "num_labels, labels_to_ids, dseq_train, dseq_test = get_data_sequences(fh, 5000, 0.9, seed=20220807)\n"
   ]
  },
  {
   "cell_type": "code",
   "execution_count": 70,
   "metadata": {},
   "outputs": [
    {
     "name": "stdout",
     "output_type": "stream",
     "text": [
      "dseq_test: 532\n",
      "dseq_train: 4468\n",
      "[-100, 3, 5, 5, 5, 4, 4, 4, 4, 1, 2, -100, -100, -100, -100, -100, -100, -100, -100, -100, -100, -100, -100, -100, -100]\n",
      "7\n",
      "{'': 0, 'city': 1, 'country': 2, 'house_number': 3, 'postcode': 4, 'road': 5, 'sep': 6}\n"
     ]
    }
   ],
   "source": [
    "print(f\"dseq_test: {len(dseq_test.texts)}\")\n",
    "print(f\"dseq_train: {len(dseq_train.texts)}\")\n",
    "print(dseq_test.labels[0])\n",
    "print(num_labels)\n",
    "print(labels_to_ids)"
   ]
  },
  {
   "cell_type": "code",
   "execution_count": null,
   "metadata": {},
   "outputs": [],
   "source": []
  },
  {
   "cell_type": "code",
   "execution_count": 72,
   "metadata": {},
   "outputs": [],
   "source": [
    "class BertModel(torch.nn.Module):\n",
    "\n",
    "    def __init__(self, num_labels):\n",
    "\n",
    "        super(BertModel, self).__init__()\n",
    "\n",
    "        self.bert = BertForTokenClassification.from_pretrained('bert-base-uncased', num_labels=num_labels)\n",
    "\n",
    "    def forward(self, input_id, mask, label):\n",
    "\n",
    "        output = self.bert(input_ids=input_id, attention_mask=mask, labels=label, return_dict=False)\n",
    "\n",
    "        return output"
   ]
  },
  {
   "cell_type": "code",
   "execution_count": null,
   "metadata": {},
   "outputs": [
    {
     "name": "stderr",
     "output_type": "stream",
     "text": [
      "Some weights of the model checkpoint at bert-base-uncased were not used when initializing BertForTokenClassification: ['cls.predictions.decoder.weight', 'cls.seq_relationship.bias', 'cls.predictions.bias', 'cls.predictions.transform.dense.weight', 'cls.predictions.transform.LayerNorm.bias', 'cls.predictions.transform.LayerNorm.weight', 'cls.seq_relationship.weight', 'cls.predictions.transform.dense.bias']\n",
      "- This IS expected if you are initializing BertForTokenClassification from the checkpoint of a model trained on another task or with another architecture (e.g. initializing a BertForSequenceClassification model from a BertForPreTraining model).\n",
      "- This IS NOT expected if you are initializing BertForTokenClassification from the checkpoint of a model that you expect to be exactly identical (initializing a BertForSequenceClassification model from a BertForSequenceClassification model).\n",
      "Some weights of BertForTokenClassification were not initialized from the model checkpoint at bert-base-uncased and are newly initialized: ['classifier.bias', 'classifier.weight']\n",
      "You should probably TRAIN this model on a down-stream task to be able to use it for predictions and inference.\n"
     ]
    },
    {
     "data": {
      "application/vnd.jupyter.widget-view+json": {
       "model_id": "7a2ea92e9da4415d8622e9ab19f06e1a",
       "version_major": 2,
       "version_minor": 0
      },
      "text/plain": [
       "HBox(children=(FloatProgress(value=0.0, max=1117.0), HTML(value='')))"
      ]
     },
     "metadata": {},
     "output_type": "display_data"
    },
    {
     "name": "stdout",
     "output_type": "stream",
     "text": [
      "\n",
      "Epochs: 1 | Loss:  0.385 | Accuracy:  0.000 | Val_Loss:  3.140 | Accuracy:  0.757\n"
     ]
    },
    {
     "data": {
      "application/vnd.jupyter.widget-view+json": {
       "model_id": "c2e279afa0584fb68d7ea7a4b5cfbf1c",
       "version_major": 2,
       "version_minor": 0
      },
      "text/plain": [
       "HBox(children=(FloatProgress(value=0.0, max=1117.0), HTML(value='')))"
      ]
     },
     "metadata": {},
     "output_type": "display_data"
    },
    {
     "name": "stdout",
     "output_type": "stream",
     "text": [
      "\n",
      "Epochs: 2 | Loss:  0.377 | Accuracy:  0.000 | Val_Loss:  3.148 | Accuracy:  0.759\n"
     ]
    },
    {
     "data": {
      "application/vnd.jupyter.widget-view+json": {
       "model_id": "2a61e64b686541959fd3ccf3dd5ab6dc",
       "version_major": 2,
       "version_minor": 0
      },
      "text/plain": [
       "HBox(children=(FloatProgress(value=0.0, max=1117.0), HTML(value='')))"
      ]
     },
     "metadata": {},
     "output_type": "display_data"
    },
    {
     "name": "stdout",
     "output_type": "stream",
     "text": [
      "\n",
      "Epochs: 3 | Loss:  0.376 | Accuracy:  0.000 | Val_Loss:  3.145 | Accuracy:  0.759\n"
     ]
    },
    {
     "data": {
      "application/vnd.jupyter.widget-view+json": {
       "model_id": "f1cb8a326a4a468195c074668ab4bd3a",
       "version_major": 2,
       "version_minor": 0
      },
      "text/plain": [
       "HBox(children=(FloatProgress(value=0.0, max=1117.0), HTML(value='')))"
      ]
     },
     "metadata": {},
     "output_type": "display_data"
    }
   ],
   "source": [
    "def train_loop(model, train_dataset, val_dataset):\n",
    "\n",
    "    train_dataloader = torch.utils.data.DataLoader(train_dataset, num_workers=0, batch_size=4, shuffle=True)\n",
    "    val_dataloader = torch.utils.data.DataLoader(val_dataset, num_workers=0, batch_size=1)\n",
    "\n",
    "    use_cuda = False # out of memory :(  torch.cuda.is_available()\n",
    "    device = torch.device(\"cuda\" if use_cuda else \"cpu\")\n",
    "\n",
    "    optimizer = torch.optim.Adam(model.parameters(), lr=LEARNING_RATE)\n",
    "\n",
    "    if use_cuda:\n",
    "        model = model.cuda()\n",
    "\n",
    "    best_acc = 0\n",
    "    best_loss = 1000\n",
    "\n",
    "    for epoch_num in range(EPOCHS):\n",
    "\n",
    "        total_acc_train = 0\n",
    "        total_loss_train = 0\n",
    "\n",
    "        model.train()\n",
    "\n",
    "        for sample_batch in tqdm(train_dataloader, total=len(train_dataloader)):\n",
    "\n",
    "            train_label = sample_batch['labels'].to(device)\n",
    "            mask = sample_batch['attention_mask'].to(device)\n",
    "            input_id = sample_batch['input_ids'].to(device)\n",
    "\n",
    "            optimizer.zero_grad()\n",
    "            loss, logits = model(input_id, mask, train_label)\n",
    "\n",
    "            # todo better loss - consider counting bad tokens\n",
    "                \n",
    "            loss.sum().backward()\n",
    "            optimizer.step()\n",
    "            total_loss_train += loss\n",
    "\n",
    "        # todo - save model\n",
    "            \n",
    "        model.eval()\n",
    "\n",
    "        total_acc_val = 0\n",
    "        total_loss_val = 0\n",
    "\n",
    "        for test_batch in train_dataloader:\n",
    "\n",
    "            val_label = test_batch['labels'].to(device)\n",
    "            mask = test_batch['attention_mask'].to(device)\n",
    "            input_id = test_batch['input_ids'].to(device)\n",
    "\n",
    "            loss, logits = model(input_id, mask, val_label)\n",
    "\n",
    "            logits_clean = logits[val_label != -100]\n",
    "            label_clean = val_label[val_label != -100]\n",
    "\n",
    "            predictions = logits_clean.argmax(dim=1)          \n",
    "\n",
    "            acc = (predictions == label_clean).float().mean()\n",
    "            total_acc_val += acc\n",
    "            total_loss_val += loss.item()\n",
    "\n",
    "        val_accuracy = total_acc_val / len(dseq_test.texts)\n",
    "        val_loss = total_loss_val / len(dseq_test.texts)\n",
    "\n",
    "        print(\n",
    "            f'Epochs: {epoch_num + 1} | Loss: {total_loss_train / len(dseq_train.texts): .3f} | Accuracy: {total_acc_train / len(dseq_train.texts): .3f} | Val_Loss: {total_loss_val / len(dseq_test.texts): .3f} | Accuracy: {total_acc_val / len(dseq_test.texts): .3f}')\n",
    "\n",
    "LEARNING_RATE = 1e-2\n",
    "EPOCHS = 5\n",
    "\n",
    "model = BertModel(num_labels)\n",
    "train_loop(model, dseq_train, dseq_test)"
   ]
  },
  {
   "cell_type": "code",
   "execution_count": null,
   "metadata": {},
   "outputs": [],
   "source": [
    "# below here is debug/diagnose"
   ]
  },
  {
   "cell_type": "code",
   "execution_count": 96,
   "metadata": {},
   "outputs": [
    {
     "name": "stderr",
     "output_type": "stream",
     "text": [
      "Some weights of the model checkpoint at bert-base-uncased were not used when initializing BertForTokenClassification: ['cls.predictions.decoder.weight', 'cls.seq_relationship.bias', 'cls.predictions.bias', 'cls.predictions.transform.dense.weight', 'cls.predictions.transform.LayerNorm.bias', 'cls.predictions.transform.LayerNorm.weight', 'cls.seq_relationship.weight', 'cls.predictions.transform.dense.bias']\n",
      "- This IS expected if you are initializing BertForTokenClassification from the checkpoint of a model trained on another task or with another architecture (e.g. initializing a BertForSequenceClassification model from a BertForPreTraining model).\n",
      "- This IS NOT expected if you are initializing BertForTokenClassification from the checkpoint of a model that you expect to be exactly identical (initializing a BertForSequenceClassification model from a BertForSequenceClassification model).\n",
      "Some weights of BertForTokenClassification were not initialized from the model checkpoint at bert-base-uncased and are newly initialized: ['classifier.bias', 'classifier.weight']\n",
      "You should probably TRAIN this model on a down-stream task to be able to use it for predictions and inference.\n"
     ]
    },
    {
     "data": {
      "application/vnd.jupyter.widget-view+json": {
       "model_id": "9e8191ec4ac644c396040700f2299045",
       "version_major": 2,
       "version_minor": 0
      },
      "text/plain": [
       "HBox(children=(FloatProgress(value=0.0, max=140.0), HTML(value='')))"
      ]
     },
     "metadata": {},
     "output_type": "display_data"
    },
    {
     "name": "stdout",
     "output_type": "stream",
     "text": [
      "tensor([[[ 0.5702,  0.2096,  0.2330,  ...,  0.1489,  0.5878,  0.0542],\n",
      "         [ 0.2619, -0.3364, -0.6031,  ...,  0.2050,  0.1321, -0.3279],\n",
      "         [ 0.6245,  0.1645, -0.1261,  ...,  0.1423,  0.1530, -0.9259],\n",
      "         ...,\n",
      "         [ 0.2028, -0.2921, -0.1160,  ...,  0.0211,  0.2855, -0.4436],\n",
      "         [ 0.1668, -0.3710, -0.2973,  ..., -0.1429, -0.1355, -0.4453],\n",
      "         [ 0.1527, -0.0837, -0.1774,  ...,  0.0602, -0.0205, -0.3852]],\n",
      "\n",
      "        [[ 0.0346, -0.1563,  0.1150,  ...,  0.1650,  0.5020, -0.1938],\n",
      "         [ 0.1976,  0.2642, -0.4011,  ..., -0.0282,  0.4597, -0.4557],\n",
      "         [ 0.4485,  0.3500, -0.1816,  ..., -0.0381,  0.1853, -0.4056],\n",
      "         ...,\n",
      "         [ 0.0510, -0.1547, -0.3990,  ...,  0.0501,  0.0459, -0.2227],\n",
      "         [ 0.1806,  0.0454, -0.2764,  ...,  0.0999, -0.1085, -0.1984],\n",
      "         [ 0.3257, -0.0235, -0.0421,  ..., -0.0959,  0.1986, -0.1690]],\n",
      "\n",
      "        [[-0.1253, -0.1298,  0.3417,  ..., -0.0546,  0.2912, -0.1931],\n",
      "         [ 0.2762,  0.0596,  0.1098,  ..., -0.0364,  0.0054, -0.1258],\n",
      "         [ 0.5519,  0.0304,  0.0459,  ...,  0.1289,  0.2612, -0.1496],\n",
      "         ...,\n",
      "         [ 0.0970, -0.1650, -0.1444,  ...,  0.0842, -0.0889, -0.3174],\n",
      "         [ 0.2434, -0.0713, -0.2543,  ...,  0.0244, -0.0830, -0.1755],\n",
      "         [ 0.2681, -0.0061,  0.1174,  ...,  0.2695, -0.2684, -0.0711]],\n",
      "\n",
      "        ...,\n",
      "\n",
      "        [[-0.0282, -0.1614,  0.4298,  ..., -0.0902,  0.6204, -0.1142],\n",
      "         [ 0.1626,  0.5636, -0.1626,  ..., -0.4728,  0.3901, -0.0680],\n",
      "         [ 0.2008,  0.0353, -0.1770,  ...,  0.1322,  0.1042,  0.2621],\n",
      "         ...,\n",
      "         [ 0.0216, -0.1239,  0.0803,  ...,  0.3007, -0.0692, -0.1355],\n",
      "         [ 0.2464,  0.2178, -0.0115,  ...,  0.1241, -0.0334, -0.1307],\n",
      "         [ 0.2304,  0.0952,  0.0094,  ...,  0.1954, -0.0430, -0.1283]],\n",
      "\n",
      "        [[ 0.1478, -0.1808,  0.3640,  ..., -0.0258,  0.4118, -0.0887],\n",
      "         [ 0.3761, -0.1121, -0.7260,  ...,  0.2953,  0.2885, -0.2646],\n",
      "         [ 0.4103,  0.2068,  0.1796,  ...,  0.1026,  0.4417, -0.3016],\n",
      "         ...,\n",
      "         [ 0.3896, -0.0052, -0.0867,  ...,  0.1553,  0.0507, -0.1498],\n",
      "         [ 0.3301,  0.0463, -0.0698,  ...,  0.0709, -0.0913, -0.2132],\n",
      "         [ 0.4157,  0.0453, -0.1687,  ...,  0.0991,  0.0898, -0.3561]],\n",
      "\n",
      "        [[-0.0535, -0.2531,  0.2066,  ..., -0.0408,  0.4041,  0.0656],\n",
      "         [ 0.3274,  0.2128, -0.3291,  ...,  0.2232,  0.2176, -0.2811],\n",
      "         [-0.0066, -0.2002, -0.6751,  ...,  0.1400, -0.0847,  0.1669],\n",
      "         ...,\n",
      "         [ 0.2211, -0.2216, -0.1534,  ...,  0.2074, -0.0291, -0.3421],\n",
      "         [ 0.3943,  0.0597, -0.1817,  ...,  0.1159, -0.0091, -0.2910],\n",
      "         [ 0.2474,  0.0421, -0.2691,  ...,  0.1156,  0.0241,  0.0362]]],\n",
      "       grad_fn=<ViewBackward0>)\n",
      "\n"
     ]
    }
   ],
   "source": [
    "model = BertModel(num_labels)\n",
    "train_dataloader = torch.utils.data.DataLoader(dseq_train, num_workers=0, batch_size=32, shuffle=True)\n",
    "val_dataloader = torch.utils.data.DataLoader(dseq_test, num_workers=0, batch_size=1)\n",
    "\n",
    "use_cuda = False # out of memory :(  torch.cuda.is_available()\n",
    "device = torch.device(\"cuda\" if use_cuda else \"cpu\")\n",
    "\n",
    "optimizer = torch.optim.Adam(model.parameters(), lr=LEARNING_RATE)\n",
    "\n",
    "if use_cuda:\n",
    "    model = model.cuda()\n",
    "\n",
    "best_acc = 0\n",
    "best_loss = 1000\n",
    "\n",
    "for epoch_num in range(EPOCHS):\n",
    "\n",
    "    total_acc_train = 0\n",
    "    total_loss_train = 0\n",
    "\n",
    "    model.train()\n",
    "\n",
    "    for sample_batch in tqdm(train_dataloader, total=len(train_dataloader)):\n",
    "\n",
    "        train_label = sample_batch['labels'].to(device)\n",
    "        mask = sample_batch['attention_mask'].to(device)\n",
    "        input_id = sample_batch['input_ids'].to(device)\n",
    "\n",
    "        optimizer.zero_grad()\n",
    "        loss, logits = model(input_id, mask, train_label)\n",
    "        print(logits)\n",
    "\n",
    "        # todo better loss - consider counting bad tokens\n",
    "\n",
    "        loss.sum().backward()\n",
    "        optimizer.step()\n",
    "        total_loss_train += loss\n",
    "        break\n",
    "    # todo - save model\n",
    "\n",
    "    model.eval()\n",
    "\n",
    "    total_acc_val = 0\n",
    "    total_loss_val = 0\n",
    "\n",
    "    for test_batch in train_dataloader:\n",
    "\n",
    "        val_label = test_batch['labels'].to(device)\n",
    "        val_mask = test_batch['attention_mask'].to(device)\n",
    "        val_input_id = test_batch['input_ids'].to(device)\n",
    "\n",
    "        test_loss, test_logits = model(val_input_id, val_mask, val_label)\n",
    "\n",
    "        logits_clean = test_logits[val_label != -100]\n",
    "        label_clean = val_label[val_label != -100]\n",
    "\n",
    "        predictions = logits_clean.argmax(dim=1)          \n",
    "\n",
    "        acc = (predictions == label_clean).float().mean()\n",
    "        total_acc_val += acc\n",
    "        total_loss_val += loss.item()\n",
    "        break\n",
    "\n",
    "    break\n",
    "    val_accuracy = total_acc_val / len(dseq_test.texts)\n",
    "    val_loss = total_loss_val / len(dseq_test.texts)\n",
    "    \n",
    "    print(\n",
    "        f'Epochs: {epoch_num + 1} | Loss: {total_loss_train / len(dseq_train.texts): .3f} | Accuracy: {total_acc_train / len(dseq_train.texts): .3f} | Val_Loss: {total_loss_val / len(dseq_test.texts): .3f} | Accuracy: {total_acc_val / len(dseq_test.texts): .3f}')\n"
   ]
  },
  {
   "cell_type": "code",
   "execution_count": null,
   "metadata": {},
   "outputs": [],
   "source": []
  },
  {
   "cell_type": "code",
   "execution_count": 130,
   "metadata": {},
   "outputs": [
    {
     "data": {
      "text/plain": [
       "torch.Size([303, 7])"
      ]
     },
     "execution_count": 130,
     "metadata": {},
     "output_type": "execute_result"
    }
   ],
   "source": [
    "test_logits[val_label != -100].shape"
   ]
  },
  {
   "cell_type": "code",
   "execution_count": 133,
   "metadata": {},
   "outputs": [
    {
     "data": {
      "text/plain": [
       "tensor([[[ 2.2821, -0.2896, -0.9865,  ..., -1.4229, -1.7006,  0.7171],\n",
       "         [ 2.2823, -0.2896, -0.9865,  ..., -1.4231, -1.7007,  0.7172],\n",
       "         [ 2.2822, -0.2896, -0.9864,  ..., -1.4229, -1.7007,  0.7171],\n",
       "         ...,\n",
       "         [ 2.2821, -0.2896, -0.9866,  ..., -1.4228, -1.7006,  0.7171],\n",
       "         [ 2.2821, -0.2896, -0.9866,  ..., -1.4228, -1.7006,  0.7171],\n",
       "         [ 2.2821, -0.2896, -0.9865,  ..., -1.4228, -1.7006,  0.7171]],\n",
       "\n",
       "        [[ 2.1944, -0.2764, -0.9519,  ..., -1.3060, -1.6817,  0.6570],\n",
       "         [ 2.1943, -0.2764, -0.9519,  ..., -1.3060, -1.6817,  0.6570],\n",
       "         [ 2.1943, -0.2764, -0.9519,  ..., -1.3060, -1.6817,  0.6570],\n",
       "         ...,\n",
       "         [ 2.1943, -0.2764, -0.9519,  ..., -1.3060, -1.6817,  0.6570],\n",
       "         [ 2.1943, -0.2764, -0.9519,  ..., -1.3060, -1.6817,  0.6570],\n",
       "         [ 2.1943, -0.2764, -0.9519,  ..., -1.3060, -1.6817,  0.6570]],\n",
       "\n",
       "        [[ 2.2161, -0.2807, -0.9698,  ..., -1.3319, -1.6847,  0.6717],\n",
       "         [ 2.2162, -0.2807, -0.9699,  ..., -1.3322, -1.6847,  0.6718],\n",
       "         [ 2.2161, -0.2807, -0.9698,  ..., -1.3319, -1.6847,  0.6717],\n",
       "         ...,\n",
       "         [ 2.2161, -0.2807, -0.9698,  ..., -1.3319, -1.6847,  0.6717],\n",
       "         [ 2.2161, -0.2807, -0.9698,  ..., -1.3319, -1.6847,  0.6717],\n",
       "         [ 2.2161, -0.2807, -0.9698,  ..., -1.3319, -1.6847,  0.6717]],\n",
       "\n",
       "        ...,\n",
       "\n",
       "        [[ 2.2214, -0.2801, -0.9666,  ..., -1.3411, -1.6843,  0.6754],\n",
       "         [ 2.2214, -0.2801, -0.9667,  ..., -1.3411, -1.6843,  0.6754],\n",
       "         [ 2.2214, -0.2801, -0.9666,  ..., -1.3410, -1.6843,  0.6754],\n",
       "         ...,\n",
       "         [ 2.2214, -0.2801, -0.9667,  ..., -1.3411, -1.6843,  0.6754],\n",
       "         [ 2.2214, -0.2801, -0.9667,  ..., -1.3411, -1.6843,  0.6754],\n",
       "         [ 2.2214, -0.2801, -0.9667,  ..., -1.3411, -1.6843,  0.6754]],\n",
       "\n",
       "        [[ 2.2509, -0.2855, -0.9718,  ..., -1.3828, -1.6958,  0.6959],\n",
       "         [ 2.2510, -0.2855, -0.9718,  ..., -1.3830, -1.6959,  0.6959],\n",
       "         [ 2.2509, -0.2855, -0.9718,  ..., -1.3827, -1.6958,  0.6958],\n",
       "         ...,\n",
       "         [ 2.2509, -0.2855, -0.9719,  ..., -1.3827, -1.6958,  0.6958],\n",
       "         [ 2.2509, -0.2855, -0.9719,  ..., -1.3827, -1.6958,  0.6958],\n",
       "         [ 2.2509, -0.2855, -0.9719,  ..., -1.3827, -1.6958,  0.6958]],\n",
       "\n",
       "        [[ 2.2424, -0.2841, -0.9796,  ..., -1.3678, -1.6894,  0.6907],\n",
       "         [ 2.2424, -0.2841, -0.9796,  ..., -1.3678, -1.6893,  0.6907],\n",
       "         [ 2.2423, -0.2841, -0.9795,  ..., -1.3678, -1.6894,  0.6906],\n",
       "         ...,\n",
       "         [ 2.2423, -0.2841, -0.9796,  ..., -1.3677, -1.6893,  0.6906],\n",
       "         [ 2.2423, -0.2841, -0.9796,  ..., -1.3678, -1.6893,  0.6906],\n",
       "         [ 2.2424, -0.2841, -0.9796,  ..., -1.3678, -1.6893,  0.6906]]],\n",
       "       grad_fn=<ViewBackward0>)"
      ]
     },
     "execution_count": 133,
     "metadata": {},
     "output_type": "execute_result"
    }
   ],
   "source": [
    "test_logits"
   ]
  },
  {
   "cell_type": "code",
   "execution_count": 124,
   "metadata": {},
   "outputs": [
    {
     "data": {
      "text/plain": [
       "torch.Size([303])"
      ]
     },
     "execution_count": 124,
     "metadata": {},
     "output_type": "execute_result"
    }
   ],
   "source": [
    "val_label[val_label != -100].shape"
   ]
  },
  {
   "cell_type": "code",
   "execution_count": 103,
   "metadata": {},
   "outputs": [
    {
     "data": {
      "text/plain": [
       "tensor([[5, 0, 0, 4, 0, 0, 0, 4, 3, 5, 0, 5, 3, 0, 0, 4, 0, 0, 3, 5, 3, 3, 5, 0,\n",
       "         0],\n",
       "        [5, 5, 0, 0, 6, 0, 6, 0, 0, 4, 3, 0, 0, 0, 3, 0, 0, 0, 0, 0, 0, 0, 3, 0,\n",
       "         0],\n",
       "        [2, 0, 0, 0, 0, 6, 3, 0, 4, 4, 4, 0, 4, 0, 3, 0, 0, 0, 0, 0, 0, 5, 0, 0,\n",
       "         4],\n",
       "        [2, 0, 3, 1, 0, 0, 3, 4, 0, 0, 5, 3, 3, 3, 2, 0, 3, 3, 0, 0, 0, 5, 3, 4,\n",
       "         0],\n",
       "        [5, 5, 0, 1, 0, 2, 0, 3, 5, 0, 6, 3, 3, 0, 0, 0, 0, 0, 0, 0, 0, 0, 0, 0,\n",
       "         0],\n",
       "        [6, 2, 6, 6, 3, 4, 4, 1, 1, 4, 1, 0, 4, 0, 0, 4, 2, 4, 2, 0, 4, 0, 4, 4,\n",
       "         0],\n",
       "        [2, 0, 0, 4, 6, 3, 0, 3, 2, 5, 2, 4, 4, 0, 0, 3, 2, 0, 3, 5, 0, 0, 0, 3,\n",
       "         2],\n",
       "        [5, 5, 0, 0, 0, 1, 0, 5, 4, 4, 0, 1, 0, 3, 5, 5, 0, 5, 0, 5, 5, 0, 0, 0,\n",
       "         0],\n",
       "        [2, 0, 0, 6, 4, 0, 0, 0, 6, 4, 0, 0, 0, 0, 3, 0, 2, 0, 0, 0, 3, 0, 0, 0,\n",
       "         3],\n",
       "        [4, 5, 4, 4, 6, 4, 3, 4, 4, 4, 5, 4, 0, 4, 4, 4, 4, 4, 4, 4, 0, 4, 4, 4,\n",
       "         4],\n",
       "        [5, 5, 5, 0, 0, 0, 0, 4, 4, 0, 0, 4, 3, 0, 0, 0, 0, 0, 0, 4, 4, 0, 0, 0,\n",
       "         0],\n",
       "        [5, 0, 0, 5, 3, 0, 0, 0, 0, 4, 0, 0, 0, 0, 0, 0, 0, 4, 0, 4, 0, 0, 0, 0,\n",
       "         0],\n",
       "        [5, 4, 0, 5, 0, 3, 3, 0, 5, 3, 5, 5, 4, 5, 5, 4, 5, 4, 4, 5, 4, 5, 5, 5,\n",
       "         5],\n",
       "        [5, 0, 4, 4, 0, 0, 0, 0, 5, 4, 1, 4, 4, 3, 0, 0, 4, 0, 4, 4, 4, 4, 4, 4,\n",
       "         1],\n",
       "        [5, 0, 0, 4, 0, 0, 0, 4, 0, 3, 0, 2, 0, 0, 0, 0, 0, 0, 0, 0, 0, 0, 0, 0,\n",
       "         0],\n",
       "        [2, 5, 3, 0, 0, 0, 3, 0, 0, 0, 4, 3, 0, 0, 0, 0, 0, 0, 0, 0, 0, 0, 0, 0,\n",
       "         0],\n",
       "        [2, 0, 6, 0, 0, 0, 0, 0, 3, 0, 0, 0, 0, 4, 3, 0, 0, 4, 5, 0, 0, 0, 0, 0,\n",
       "         0],\n",
       "        [5, 0, 0, 0, 0, 4, 3, 0, 5, 0, 3, 0, 0, 0, 0, 5, 6, 0, 0, 0, 5, 0, 0, 5,\n",
       "         0],\n",
       "        [5, 0, 0, 0, 5, 0, 0, 5, 4, 0, 1, 0, 3, 4, 0, 0, 0, 0, 0, 4, 0, 0, 0, 0,\n",
       "         0],\n",
       "        [5, 5, 0, 0, 5, 4, 5, 0, 0, 3, 3, 0, 6, 3, 0, 3, 0, 3, 5, 3, 3, 3, 3, 0,\n",
       "         3],\n",
       "        [5, 5, 3, 0, 0, 6, 3, 0, 4, 4, 0, 0, 0, 4, 4, 0, 4, 4, 0, 4, 3, 4, 4, 0,\n",
       "         0],\n",
       "        [2, 0, 0, 0, 3, 0, 0, 3, 3, 0, 0, 3, 4, 0, 4, 3, 3, 4, 4, 4, 3, 3, 4, 0,\n",
       "         4],\n",
       "        [2, 2, 5, 4, 0, 0, 0, 0, 0, 3, 0, 0, 0, 5, 0, 0, 0, 0, 0, 0, 0, 0, 0, 0,\n",
       "         0],\n",
       "        [2, 3, 0, 0, 0, 0, 0, 0, 0, 0, 5, 5, 3, 0, 0, 0, 0, 0, 0, 4, 0, 0, 0, 0,\n",
       "         0],\n",
       "        [5, 0, 4, 0, 6, 0, 4, 3, 0, 0, 0, 3, 0, 0, 0, 0, 0, 0, 0, 0, 0, 0, 0, 0,\n",
       "         0],\n",
       "        [5, 4, 1, 4, 6, 3, 4, 2, 2, 2, 0, 4, 4, 5, 3, 0, 5, 4, 3, 5, 5, 1, 0, 4,\n",
       "         2],\n",
       "        [2, 5, 0, 0, 0, 0, 0, 0, 0, 4, 0, 0, 5, 3, 2, 0, 0, 0, 0, 0, 0, 0, 4, 4,\n",
       "         0],\n",
       "        [2, 0, 0, 4, 5, 0, 0, 4, 0, 4, 0, 0, 0, 0, 0, 0, 0, 0, 0, 0, 4, 0, 0, 0,\n",
       "         0],\n",
       "        [2, 0, 0, 0, 0, 3, 3, 3, 5, 3, 0, 2, 4, 0, 0, 0, 0, 0, 5, 3, 0, 3, 0, 3,\n",
       "         0],\n",
       "        [5, 1, 6, 6, 0, 1, 0, 4, 4, 0, 4, 0, 3, 0, 0, 5, 0, 0, 0, 0, 4, 0, 4, 0,\n",
       "         0],\n",
       "        [5, 0, 5, 6, 0, 0, 0, 0, 4, 4, 0, 1, 0, 3, 0, 0, 0, 0, 0, 0, 0, 0, 0, 0,\n",
       "         0],\n",
       "        [5, 0, 6, 0, 0, 6, 3, 0, 4, 0, 5, 0, 4, 4, 4, 0, 4, 4, 0, 0, 0, 0, 0, 0,\n",
       "         0]])"
      ]
     },
     "execution_count": 103,
     "metadata": {},
     "output_type": "execute_result"
    }
   ],
   "source": [
    "logits.argmax(dim=2)"
   ]
  },
  {
   "cell_type": "code",
   "execution_count": 105,
   "metadata": {},
   "outputs": [
    {
     "data": {
      "text/plain": [
       "tensor(2.0226, grad_fn=<NllLossBackward0>)"
      ]
     },
     "execution_count": 105,
     "metadata": {},
     "output_type": "execute_result"
    }
   ],
   "source": [
    "loss"
   ]
  },
  {
   "cell_type": "code",
   "execution_count": 90,
   "metadata": {},
   "outputs": [],
   "source": [
    "train_label = sample_batch['labels'].to(device)\n",
    "mask = sample_batch['attention_mask'].to(device)\n",
    "input_id = sample_batch['input_ids'].to(device)\n",
    "loss, logits = model(input_id, mask, train_label)"
   ]
  },
  {
   "cell_type": "code",
   "execution_count": 91,
   "metadata": {},
   "outputs": [
    {
     "data": {
      "text/plain": [
       "tensor([4, 4, 4, 4, 4, 4, 4, 4, 4, 4, 4, 4, 4, 4, 4, 4, 4, 4, 4, 4, 4, 4, 4, 4,\n",
       "        4])"
      ]
     },
     "execution_count": 91,
     "metadata": {},
     "output_type": "execute_result"
    }
   ],
   "source": [
    "logits[0, :, :].argmax(dim=1)"
   ]
  },
  {
   "cell_type": "code",
   "execution_count": 75,
   "metadata": {},
   "outputs": [
    {
     "data": {
      "text/plain": [
       "tensor([[-0.0345,  0.3386,  0.1161,  0.0342,  0.1419, -0.4926, -0.0822],\n",
       "        [ 0.1287,  0.1278, -0.2769, -0.0328,  0.2805, -0.2797, -0.2588],\n",
       "        [-0.1182,  0.0642,  0.2909, -0.1873, -0.0376, -0.5870,  0.6340],\n",
       "        [ 0.2929,  0.1122,  0.3456, -0.5560, -0.1414, -0.6846,  0.0358],\n",
       "        [-0.0971, -0.3623,  0.3397,  0.3219,  0.0487, -0.5433,  0.0436],\n",
       "        [-0.0797, -0.0513, -0.1123,  0.4865,  0.1557, -0.3265,  0.1303],\n",
       "        [ 0.1666, -0.1134,  0.0131, -0.5321, -0.2246, -0.1194,  0.0015],\n",
       "        [-0.1751,  0.1675,  0.0526, -0.0153,  0.0076, -0.3112, -0.3186],\n",
       "        [-0.2348,  0.1760,  0.0915,  0.1199,  0.1011, -0.3250, -0.3097],\n",
       "        [-0.1697,  0.1996,  0.0621,  0.0056, -0.0347, -0.2210, -0.3963],\n",
       "        [-0.2471,  0.1525,  0.0947,  0.1459,  0.1054, -0.3120, -0.2813],\n",
       "        [-0.1382,  0.1749,  0.0549,  0.0837,  0.0231, -0.2560, -0.2628],\n",
       "        [ 0.1957,  0.1232,  0.1402,  0.0383, -0.1520, -0.0341, -0.0914],\n",
       "        [-0.0515,  0.1926, -0.0053, -0.0053, -0.0315, -0.2154, -0.3106],\n",
       "        [-0.0093,  0.2100,  0.0542,  0.0604, -0.0372, -0.1695, -0.3557],\n",
       "        [ 0.2068,  0.0812,  0.0830,  0.0828, -0.2175, -0.0053, -0.0189],\n",
       "        [-0.1104,  0.2010,  0.0194,  0.1101,  0.0334, -0.3180, -0.2942],\n",
       "        [-0.0068,  0.2183,  0.0872,  0.0141, -0.0358, -0.1588, -0.3916],\n",
       "        [-0.1411,  0.2040,  0.0912,  0.0789, -0.0083, -0.2208, -0.3786],\n",
       "        [-0.2480,  0.2256,  0.0879,  0.2940,  0.1458, -0.2394, -0.2058],\n",
       "        [-0.2142,  0.2359,  0.1292,  0.1837,  0.1048, -0.2938, -0.3193],\n",
       "        [-0.2537,  0.1587,  0.1029,  0.1817,  0.1311, -0.3016, -0.3022],\n",
       "        [-0.0262,  0.2000,  0.1234, -0.0274,  0.0040, -0.1472, -0.4340],\n",
       "        [-0.0342,  0.2011,  0.1052, -0.0258, -0.0030, -0.1248, -0.4404],\n",
       "        [-0.1834,  0.2104,  0.0299,  0.1359,  0.0460, -0.2464, -0.1843]],\n",
       "       grad_fn=<SliceBackward0>)"
      ]
     },
     "execution_count": 75,
     "metadata": {},
     "output_type": "execute_result"
    }
   ],
   "source": [
    "logits[0, :, :]"
   ]
  },
  {
   "cell_type": "code",
   "execution_count": 76,
   "metadata": {},
   "outputs": [
    {
     "name": "stdout",
     "output_type": "stream",
     "text": [
      "{'': 0, 'city': 1, 'country': 2, 'house_number': 3, 'postcode': 4, 'road': 5, 'sep': 6}\n"
     ]
    }
   ],
   "source": [
    "print(labels_to_ids)"
   ]
  },
  {
   "cell_type": "code",
   "execution_count": 110,
   "metadata": {},
   "outputs": [
    {
     "data": {
      "text/plain": [
       "tensor([[  101, 15876,  2509, 26424,  2100,  6738,  2142,  2983,   102,     0,\n",
       "             0,     0,     0,     0,     0,     0,     0,     0,     0,     0,\n",
       "             0,     0,     0,     0,     0],\n",
       "        [  101,  1015,  3614,  3702,  2346, 11503,  5677,  3051,  2142,  2983,\n",
       "         19739, 16576,  1014,  3240,   102,     0,     0,     0,     0,     0,\n",
       "             0,     0,     0,     0,     0],\n",
       "        [  101,  1022,  2146,  4644,  6174, 15154,  5172,  2142,  2983,  1059,\n",
       "          2094,  2509,  1022,  6672,   102,     0,     0,     0,     0,     0,\n",
       "             0,     0,     0,     0,     0],\n",
       "        [  101,  6146, 17916,  2395,  3393,  2509,  1019,  3022, 11258,  2142,\n",
       "          2983,   102,     0,     0,     0,     0,     0,     0,     0,     0,\n",
       "             0,     0,     0,     0,     0],\n",
       "        [  101, 15355,  2015,  2346, 22545,  4642, 16147,  1019,  2546,  2078,\n",
       "          2142,  2983,   102,     0,     0,     0,     0,     0,     0,     0,\n",
       "             0,     0,     0,     0,     0]])"
      ]
     },
     "execution_count": 110,
     "metadata": {},
     "output_type": "execute_result"
    }
   ],
   "source": [
    "input_id[:5, :]"
   ]
  },
  {
   "cell_type": "code",
   "execution_count": 111,
   "metadata": {},
   "outputs": [
    {
     "data": {
      "text/plain": [
       "tensor([[1, 1, 1, 1, 1, 1, 1, 1, 1, 0, 0, 0, 0, 0, 0, 0, 0, 0, 0, 0, 0, 0, 0, 0,\n",
       "         0],\n",
       "        [1, 1, 1, 1, 1, 1, 1, 1, 1, 1, 1, 1, 1, 1, 1, 0, 0, 0, 0, 0, 0, 0, 0, 0,\n",
       "         0],\n",
       "        [1, 1, 1, 1, 1, 1, 1, 1, 1, 1, 1, 1, 1, 1, 1, 0, 0, 0, 0, 0, 0, 0, 0, 0,\n",
       "         0],\n",
       "        [1, 1, 1, 1, 1, 1, 1, 1, 1, 1, 1, 1, 0, 0, 0, 0, 0, 0, 0, 0, 0, 0, 0, 0,\n",
       "         0],\n",
       "        [1, 1, 1, 1, 1, 1, 1, 1, 1, 1, 1, 1, 1, 0, 0, 0, 0, 0, 0, 0, 0, 0, 0, 0,\n",
       "         0]])"
      ]
     },
     "execution_count": 111,
     "metadata": {},
     "output_type": "execute_result"
    }
   ],
   "source": [
    "mask[:5, :]"
   ]
  },
  {
   "cell_type": "code",
   "execution_count": 112,
   "metadata": {},
   "outputs": [
    {
     "data": {
      "text/plain": [
       "tensor([[-100,    4,    4,    4,    4,    1,    2,    2, -100, -100, -100, -100,\n",
       "         -100, -100, -100, -100, -100, -100, -100, -100, -100, -100, -100, -100,\n",
       "         -100],\n",
       "        [-100,    3,    5,    5,    5,    1,    1,    1,    2,    2,    4,    4,\n",
       "            4,    4, -100, -100, -100, -100, -100, -100, -100, -100, -100, -100,\n",
       "         -100],\n",
       "        [-100,    3,    5,    5,    1,    1,    1,    2,    2,    4,    4,    4,\n",
       "            4,    4, -100, -100, -100, -100, -100, -100, -100, -100, -100, -100,\n",
       "         -100],\n",
       "        [-100,    3,    5,    5,    4,    4,    4,    4,    1,    2,    2, -100,\n",
       "         -100, -100, -100, -100, -100, -100, -100, -100, -100, -100, -100, -100,\n",
       "         -100],\n",
       "        [-100,    5,    5,    5,    1,    4,    4,    4,    4,    4,    2,    2,\n",
       "         -100, -100, -100, -100, -100, -100, -100, -100, -100, -100, -100, -100,\n",
       "         -100]])"
      ]
     },
     "execution_count": 112,
     "metadata": {},
     "output_type": "execute_result"
    }
   ],
   "source": [
    "train_label[:5, :]"
   ]
  },
  {
   "cell_type": "code",
   "execution_count": null,
   "metadata": {},
   "outputs": [],
   "source": []
  }
 ],
 "metadata": {
  "kernelspec": {
   "display_name": "Python 3",
   "language": "python",
   "name": "python3"
  },
  "language_info": {
   "codemirror_mode": {
    "name": "ipython",
    "version": 3
   },
   "file_extension": ".py",
   "mimetype": "text/x-python",
   "name": "python",
   "nbconvert_exporter": "python",
   "pygments_lexer": "ipython3",
   "version": "3.8.3"
  }
 },
 "nbformat": 4,
 "nbformat_minor": 5
}
