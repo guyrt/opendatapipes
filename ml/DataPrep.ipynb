{
 "cells": [
  {
   "cell_type": "markdown",
   "metadata": {},
   "source": [
    "Data comes from [OpenAddresses](https://batch.openaddresses.io/data) and must be downloaded after logging in. Assume it's all in ./data. I had to do the following to get it prepared:\n",
    "\n",
    "1. UK - data is already in the folder as a test set. It's tsv.\n",
    "1. Manitoba - came as a gzipped geojson. `gunzip ca_mb_province-addresses-state.geojson.gz`\n",
    "1. US midwest - came as a zip file which unzips to a large folder. `unzip collection-us-midwest.zip`"
   ]
  },
  {
   "cell_type": "code",
   "execution_count": 1,
   "metadata": {},
   "outputs": [],
   "source": [
    "import json\n",
    "import os\n",
    "import random"
   ]
  },
  {
   "cell_type": "code",
   "execution_count": 2,
   "metadata": {},
   "outputs": [],
   "source": [
    "def shuffle_lines(file):\n",
    "    fh = open(file, 'r')\n",
    "    lines = fh.readlines()\n",
    "    fh.close()\n",
    "    random.shuffle(lines)\n",
    "    fh = open(file, 'w').writelines(lines)"
   ]
  },
  {
   "cell_type": "code",
   "execution_count": 6,
   "metadata": {},
   "outputs": [],
   "source": [
    "# UK\n",
    "fh = open(\"./data/uk_openaddresses_formatted_addresses_tagged.random.tsv\", \"r\")\n",
    "fh_out_jk = open(\"./data/training/uk_geojson_reduced.geojson\", \"w\")\n",
    "fh_out_raw = open(\"./data/rawtext/uk_geojson_reduced.txt\", \"w\")\n",
    "fh_out_meta = open(\"./data/training/uk_geojson_reduced.meta.json\", \"w\")\n",
    "\n",
    "key_map = {\n",
    "    'house_number': 'number',\n",
    "    'road': 'street',\n",
    "    'postcode': 'postcode',\n",
    "    'city': 'city',\n",
    "    'country': 'country'\n",
    "}\n",
    "\n",
    "num_lines = 0\n",
    "for line in fh:\n",
    "    line = line.strip().split('\\t')[2]\n",
    "    line = line.replace('|/FSEP', '')\n",
    "    d = {}\n",
    "    \n",
    "    for part in line.split(' '):\n",
    "        if not part:\n",
    "            continue\n",
    "        \n",
    "        if part.startswith('//'):\n",
    "            data, code = '/', part[2:]\n",
    "        else:\n",
    "            try:\n",
    "                data, code = part.split('/')\n",
    "            except ValueError:\n",
    "                print(line)\n",
    "                raise \n",
    "        \n",
    "        if code == 'SEP':\n",
    "            continue\n",
    "            \n",
    "        if key_map[code] not in d:\n",
    "            d[key_map[code]] = []\n",
    "        d[key_map[code]].append(data)\n",
    "    \n",
    "    num_lines += 1\n",
    "    final_d = {k: ' '.join(v) for k, v in d.items()}\n",
    "    final_d_s = json.dumps(final_d)\n",
    "    fh_out_jk.write(f\"{final_d_s}\\n\")\n",
    "    fh_out_raw.write(f\"{' '.join(final_d.values())}\\n\")\n",
    "    \n",
    "metadata = {'file': 'uk_geojson_reduced.geojson', 'numlines': num_lines}\n",
    "fh_out_meta.write(json.dumps(metadata))\n",
    "\n",
    "fh_out_jk.close()\n",
    "fh_out_raw.close()\n",
    "fh_out_meta.close()\n",
    "\n",
    "shuffle_lines('./data/training/uk_geojson_reduced.geojson')"
   ]
  },
  {
   "cell_type": "code",
   "execution_count": 4,
   "metadata": {},
   "outputs": [],
   "source": [
    "# US\n",
    "def process_us_county(file_path, out_file_path, out_raw_path, out_meta_path, county, state):\n",
    "    for t_path in [out_file_path, out_raw_path, out_meta_path]:\n",
    "        out_path = os.path.dirname(t_path)\n",
    "        if not os.path.exists(out_path):\n",
    "            os.makedirs(out_path)\n",
    "    \n",
    "    fh = open(file_path, 'r')\n",
    "    fh_output = open(out_file_path, 'w')\n",
    "    fh_output_raw = open(out_raw_path, 'w')\n",
    "    fh_output_meta = open(out_meta_path, 'w')\n",
    "    \n",
    "    keys = {'number', 'street', 'unit', 'city', 'district', 'region', 'postcode', 'country'}\n",
    "    num_lines = 0\n",
    "    for line in fh:\n",
    "        line = json.loads(line)['properties']\n",
    "        line = {k: v for k, v in line.items() if k in keys}\n",
    "        \n",
    "        if not line.get('country'):\n",
    "            line['country'] = 'USA'\n",
    "        if not line.get('region'):\n",
    "            line['region'] = state\n",
    "        if not line.get('district'):\n",
    "            line['district'] = county\n",
    "        \n",
    "        num_lines += 1\n",
    "        data = json.dumps(line)\n",
    "        fh_output.write(f\"{data}\\n\")\n",
    "        fh_output_raw.write(f\"{' '.join(line.values())}\\n\")\n",
    "        \n",
    "                \n",
    "    fh.close()\n",
    "    fh_output.close()\n",
    "    fh_output_raw.close()\n",
    "    shuffle_lines(out_file_path)\n",
    "    \n",
    "    _, out_file_name = os.path.split(out_file_path)\n",
    "    metadata = {'numlines': num_lines, 'file': out_file_name}\n",
    "    fh_output_meta.write(json.dumps(metadata))\n",
    "    fh_output_meta.close()\n"
   ]
  },
  {
   "cell_type": "code",
   "execution_count": 5,
   "metadata": {},
   "outputs": [],
   "source": [
    "process_us_county(\"data/us/il/cook-addresses-county.geojson\", 'data/training/us/il/cook_county_us.geojson', 'data/rawtext/us/il/cook_county_us.txt', 'data/training/us/il/cook_county_us.meta.json', 'Cook County', 'Illinois')\n",
    "process_us_county(\"data/us/mn/ramsey-addresses-county.geojson\", 'data/training/us/mn/ramsey-addresses-county.geojson', 'data/rawtext/us/mn/ramsey-addresses-county.txt', 'data/training/us/mn/ramsey-addresses-county.meta.json', 'Ramsey County', 'Minnesota')"
   ]
  },
  {
   "cell_type": "code",
   "execution_count": null,
   "metadata": {},
   "outputs": [],
   "source": []
  }
 ],
 "metadata": {
  "kernelspec": {
   "display_name": "Python 3",
   "language": "python",
   "name": "python3"
  },
  "language_info": {
   "codemirror_mode": {
    "name": "ipython",
    "version": 3
   },
   "file_extension": ".py",
   "mimetype": "text/x-python",
   "name": "python",
   "nbconvert_exporter": "python",
   "pygments_lexer": "ipython3",
   "version": "3.8.3"
  }
 },
 "nbformat": 4,
 "nbformat_minor": 4
}
